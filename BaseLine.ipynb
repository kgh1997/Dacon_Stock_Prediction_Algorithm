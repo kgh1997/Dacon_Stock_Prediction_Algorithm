{
  "cells": [
    {
      "cell_type": "markdown",
      "metadata": {
        "id": "view-in-github",
        "colab_type": "text"
      },
      "source": [
        "<a href=\"https://colab.research.google.com/github/kgh1997/Dacon_Stock_Prediction_Algorithm/blob/main/BaseLine.ipynb\" target=\"_parent\"><img src=\"https://colab.research.google.com/assets/colab-badge.svg\" alt=\"Open In Colab\"/></a>"
      ]
    },
    {
      "cell_type": "code",
      "execution_count": 1,
      "metadata": {
        "colab": {
          "base_uri": "https://localhost:8080/"
        },
        "id": "iuq1MyA5mPwh",
        "outputId": "2d00bb70-5db7-493e-a4ec-6c2b73bf3841"
      },
      "outputs": [
        {
          "output_type": "stream",
          "name": "stdout",
          "text": [
            "Mounted at /content/drive\n"
          ]
        }
      ],
      "source": [
        "from google.colab import drive\n",
        "drive.mount('/content/drive')"
      ]
    },
    {
      "cell_type": "markdown",
      "metadata": {
        "id": "kQeDc4fYmDjd"
      },
      "source": [
        "### 경진대회 목적\n",
        "- 한국거래소는 금융상품의 시세, 공시정보 등 다양한 투자 참고정보를 제공∙판매하고 있습니다.\n",
        "- (KRX가 제공∙판매하고 있는 주요 투자 참고 정보는 정보데이터시스템(https://data.krx.co.kr) 참고)\n",
        "- 한국거래소의 정보사업을 확대하고, 시장참가자들에게 더욱 유용한 투자 참고 정보를 제공하기 위해,\n",
        "- 제2회 KRX 주식 투자 알고리즘 경진대회를 개최합니다.\n",
        "- 자본시장 데이터 및 공공 데이터를 활용하여 높은 안정성과 수익률을 기대할 수 있는 주식 투자 알고리즘을 만들어주세요."
      ]
    },
    {
      "cell_type": "markdown",
      "metadata": {
        "id": "DanDXqnPmDji"
      },
      "source": [
        "### 주식거래에 대한 가정\n",
        "- 참가자들은 포트폴리오에서 지정해준 순위에 따라 거래기간 동안 거래를 진행한다고 가정\n",
        "- 구체적으로는, 전체 2000주 중 상위 200주와 하위 200주를 선정하여 매일 동일 금액 비중으로 거래를 진행한다고 가정\n",
        "- 상위 200주에 대해서는 매수 전략(Long)을 취하게 되고, 하위 200주에 대해서는 공매도 전략(Short Selling)을 취함\n",
        "- 거래기간 중 매일 종가에 매수와 공매도가 이루어진다고 가정\n",
        "- 매수를 통해 보유한 주식은 다음날 종가에 판매한다고 가정\n",
        "- 공매도의 상환 역시 다음날 종가에 이루어진다고 가정\n",
        "- 결론적으로 참가자들은 거래기간 동안 매일 Long-Short을 반복한다고 가정하고 평가가 진행되게 됨\n",
        "- 평가기간은 2023년 5월 31일부터 6월 21일"
      ]
    },
    {
      "cell_type": "markdown",
      "metadata": {
        "id": "nXVcT53HmDjj"
      },
      "source": [
        "### 주제: 자본시장 데이터 및 공공데이터를 활용하여 Long short 포트폴리오 구성"
      ]
    },
    {
      "cell_type": "code",
      "source": [
        "!pip install tensorflow"
      ],
      "metadata": {
        "colab": {
          "base_uri": "https://localhost:8080/"
        },
        "id": "d4-zMol1sYZ8",
        "outputId": "a209bd4d-a292-444b-f2d9-124e6c3ca020"
      },
      "execution_count": 5,
      "outputs": [
        {
          "output_type": "stream",
          "name": "stdout",
          "text": [
            "Requirement already satisfied: tensorflow in /usr/local/lib/python3.10/dist-packages (2.12.0)\n",
            "Requirement already satisfied: absl-py>=1.0.0 in /usr/local/lib/python3.10/dist-packages (from tensorflow) (1.4.0)\n",
            "Requirement already satisfied: astunparse>=1.6.0 in /usr/local/lib/python3.10/dist-packages (from tensorflow) (1.6.3)\n",
            "Requirement already satisfied: flatbuffers>=2.0 in /usr/local/lib/python3.10/dist-packages (from tensorflow) (23.5.26)\n",
            "Requirement already satisfied: gast<=0.4.0,>=0.2.1 in /usr/local/lib/python3.10/dist-packages (from tensorflow) (0.4.0)\n",
            "Requirement already satisfied: google-pasta>=0.1.1 in /usr/local/lib/python3.10/dist-packages (from tensorflow) (0.2.0)\n",
            "Requirement already satisfied: grpcio<2.0,>=1.24.3 in /usr/local/lib/python3.10/dist-packages (from tensorflow) (1.56.2)\n",
            "Requirement already satisfied: h5py>=2.9.0 in /usr/local/lib/python3.10/dist-packages (from tensorflow) (3.8.0)\n",
            "Requirement already satisfied: jax>=0.3.15 in /usr/local/lib/python3.10/dist-packages (from tensorflow) (0.4.13)\n",
            "Requirement already satisfied: keras<2.13,>=2.12.0 in /usr/local/lib/python3.10/dist-packages (from tensorflow) (2.12.0)\n",
            "Requirement already satisfied: libclang>=13.0.0 in /usr/local/lib/python3.10/dist-packages (from tensorflow) (16.0.6)\n",
            "Requirement already satisfied: numpy<1.24,>=1.22 in /usr/local/lib/python3.10/dist-packages (from tensorflow) (1.22.4)\n",
            "Requirement already satisfied: opt-einsum>=2.3.2 in /usr/local/lib/python3.10/dist-packages (from tensorflow) (3.3.0)\n",
            "Requirement already satisfied: packaging in /usr/local/lib/python3.10/dist-packages (from tensorflow) (23.1)\n",
            "Requirement already satisfied: protobuf!=4.21.0,!=4.21.1,!=4.21.2,!=4.21.3,!=4.21.4,!=4.21.5,<5.0.0dev,>=3.20.3 in /usr/local/lib/python3.10/dist-packages (from tensorflow) (3.20.3)\n",
            "Requirement already satisfied: setuptools in /usr/local/lib/python3.10/dist-packages (from tensorflow) (67.7.2)\n",
            "Requirement already satisfied: six>=1.12.0 in /usr/local/lib/python3.10/dist-packages (from tensorflow) (1.16.0)\n",
            "Requirement already satisfied: tensorboard<2.13,>=2.12 in /usr/local/lib/python3.10/dist-packages (from tensorflow) (2.12.3)\n",
            "Requirement already satisfied: tensorflow-estimator<2.13,>=2.12.0 in /usr/local/lib/python3.10/dist-packages (from tensorflow) (2.12.0)\n",
            "Requirement already satisfied: termcolor>=1.1.0 in /usr/local/lib/python3.10/dist-packages (from tensorflow) (2.3.0)\n",
            "Requirement already satisfied: typing-extensions>=3.6.6 in /usr/local/lib/python3.10/dist-packages (from tensorflow) (4.7.1)\n",
            "Requirement already satisfied: wrapt<1.15,>=1.11.0 in /usr/local/lib/python3.10/dist-packages (from tensorflow) (1.14.1)\n",
            "Requirement already satisfied: tensorflow-io-gcs-filesystem>=0.23.1 in /usr/local/lib/python3.10/dist-packages (from tensorflow) (0.32.0)\n",
            "Requirement already satisfied: wheel<1.0,>=0.23.0 in /usr/local/lib/python3.10/dist-packages (from astunparse>=1.6.0->tensorflow) (0.41.0)\n",
            "Requirement already satisfied: ml-dtypes>=0.1.0 in /usr/local/lib/python3.10/dist-packages (from jax>=0.3.15->tensorflow) (0.2.0)\n",
            "Requirement already satisfied: scipy>=1.7 in /usr/local/lib/python3.10/dist-packages (from jax>=0.3.15->tensorflow) (1.10.1)\n",
            "Requirement already satisfied: google-auth<3,>=1.6.3 in /usr/local/lib/python3.10/dist-packages (from tensorboard<2.13,>=2.12->tensorflow) (2.17.3)\n",
            "Requirement already satisfied: google-auth-oauthlib<1.1,>=0.5 in /usr/local/lib/python3.10/dist-packages (from tensorboard<2.13,>=2.12->tensorflow) (1.0.0)\n",
            "Requirement already satisfied: markdown>=2.6.8 in /usr/local/lib/python3.10/dist-packages (from tensorboard<2.13,>=2.12->tensorflow) (3.4.4)\n",
            "Requirement already satisfied: requests<3,>=2.21.0 in /usr/local/lib/python3.10/dist-packages (from tensorboard<2.13,>=2.12->tensorflow) (2.27.1)\n",
            "Requirement already satisfied: tensorboard-data-server<0.8.0,>=0.7.0 in /usr/local/lib/python3.10/dist-packages (from tensorboard<2.13,>=2.12->tensorflow) (0.7.1)\n",
            "Requirement already satisfied: werkzeug>=1.0.1 in /usr/local/lib/python3.10/dist-packages (from tensorboard<2.13,>=2.12->tensorflow) (2.3.6)\n",
            "Requirement already satisfied: cachetools<6.0,>=2.0.0 in /usr/local/lib/python3.10/dist-packages (from google-auth<3,>=1.6.3->tensorboard<2.13,>=2.12->tensorflow) (5.3.1)\n",
            "Requirement already satisfied: pyasn1-modules>=0.2.1 in /usr/local/lib/python3.10/dist-packages (from google-auth<3,>=1.6.3->tensorboard<2.13,>=2.12->tensorflow) (0.3.0)\n",
            "Requirement already satisfied: rsa<5,>=3.1.4 in /usr/local/lib/python3.10/dist-packages (from google-auth<3,>=1.6.3->tensorboard<2.13,>=2.12->tensorflow) (4.9)\n",
            "Requirement already satisfied: requests-oauthlib>=0.7.0 in /usr/local/lib/python3.10/dist-packages (from google-auth-oauthlib<1.1,>=0.5->tensorboard<2.13,>=2.12->tensorflow) (1.3.1)\n",
            "Requirement already satisfied: urllib3<1.27,>=1.21.1 in /usr/local/lib/python3.10/dist-packages (from requests<3,>=2.21.0->tensorboard<2.13,>=2.12->tensorflow) (1.26.16)\n",
            "Requirement already satisfied: certifi>=2017.4.17 in /usr/local/lib/python3.10/dist-packages (from requests<3,>=2.21.0->tensorboard<2.13,>=2.12->tensorflow) (2023.7.22)\n",
            "Requirement already satisfied: charset-normalizer~=2.0.0 in /usr/local/lib/python3.10/dist-packages (from requests<3,>=2.21.0->tensorboard<2.13,>=2.12->tensorflow) (2.0.12)\n",
            "Requirement already satisfied: idna<4,>=2.5 in /usr/local/lib/python3.10/dist-packages (from requests<3,>=2.21.0->tensorboard<2.13,>=2.12->tensorflow) (3.4)\n",
            "Requirement already satisfied: MarkupSafe>=2.1.1 in /usr/local/lib/python3.10/dist-packages (from werkzeug>=1.0.1->tensorboard<2.13,>=2.12->tensorflow) (2.1.3)\n",
            "Requirement already satisfied: pyasn1<0.6.0,>=0.4.6 in /usr/local/lib/python3.10/dist-packages (from pyasn1-modules>=0.2.1->google-auth<3,>=1.6.3->tensorboard<2.13,>=2.12->tensorflow) (0.5.0)\n",
            "Requirement already satisfied: oauthlib>=3.0.0 in /usr/local/lib/python3.10/dist-packages (from requests-oauthlib>=0.7.0->google-auth-oauthlib<1.1,>=0.5->tensorboard<2.13,>=2.12->tensorflow) (3.2.2)\n"
          ]
        }
      ]
    },
    {
      "cell_type": "markdown",
      "source": [
        "### LSTM"
      ],
      "metadata": {
        "id": "oCBrP67jz0v_"
      }
    },
    {
      "cell_type": "code",
      "source": [
        "import pandas as pd\n",
        "result = pd.read_csv(\"/content/drive/MyDrive/Colab Notebooks/datasets/df.csv\", index_col=0)\n",
        "#result[\"종목명_구분\"] = result[\"종목명_구분\"].replace({\"kospi\":1,\"kosdaq\":0,\"other\":2})"
      ],
      "metadata": {
        "id": "PklYgWi2SNmu"
      },
      "execution_count": 4,
      "outputs": []
    },
    {
      "cell_type": "code",
      "source": [
        "result"
      ],
      "metadata": {
        "colab": {
          "base_uri": "https://localhost:8080/",
          "height": 423
        },
        "id": "Uz6gvtPRsgTJ",
        "outputId": "1893cc88-b923-4b50-8c1b-a62f42cc9c42"
      },
      "execution_count": 7,
      "outputs": [
        {
          "output_type": "execute_result",
          "data": {
            "text/plain": [
              "              일자     종목코드       종목명       거래량     시가     고가     저가     종가  \\\n",
              "0       20210601  A050110       캠시스    361179   2285   2310   2270   2295   \n",
              "1       20210601  A066310     큐에스아이     10757  15550  15750  15500  15550   \n",
              "2       20210601  A289220    자이언트스텝    509072  43550  44800  42500  42700   \n",
              "3       20210601  A016090        대현   2552913   2860   3045   2815   3020   \n",
              "4       20210601  A048550    SM C&C  17769900   2750   2850   2710   2780   \n",
              "...          ...      ...       ...       ...    ...    ...    ...    ...   \n",
              "987995  20230530  A033340     좋은사람들         0      0      0      0   2110   \n",
              "987996  20230530  A030520    한글과컴퓨터    100091  14640  14870  14520  14800   \n",
              "987997  20230530  A267260  HD현대일렉트릭    196698  48300  48600  46800  48100   \n",
              "987998  20230530  A139130   DGB금융지주    257887   7010   7040   6970   7010   \n",
              "987999  20230530  A238490        힘스   2611843   6410   8220   6300   8220   \n",
              "\n",
              "          일일 수익률          ATR     VWAP         RSI         CCI    누적 수익률  이슈  \\\n",
              "0       0.004376    91.071429   2295.0   35.185185   54.526777  0.000000   0   \n",
              "1      -0.006390   464.285714  15550.0   40.000000   36.014134  0.000000   0   \n",
              "2       0.023981  3453.571429  42700.0   54.517134   40.400471  0.000000   0   \n",
              "3       0.052265   150.357143   3020.0   62.433862  130.115847  0.000000   0   \n",
              "4       0.153527   131.785714   2780.0   91.566265  171.387105  0.000000   0   \n",
              "...          ...          ...      ...         ...         ...       ...  ..   \n",
              "987995  0.000000  2110.000000   8880.0  100.000000   31.321869 -0.093023   0   \n",
              "987996  0.019284   327.142857  14800.0   68.862275  -41.453846 -0.290528   0   \n",
              "987997 -0.003109  2028.571429  48100.0   46.153846  -42.537689  4.103830   0   \n",
              "987998  0.001429    77.142857   7010.0   51.923077  -28.678438  0.603332   0   \n",
              "987999  0.298578   384.285714   8220.0   76.737160  324.576378 -0.176076   0   \n",
              "\n",
              "        종목명_구분  \n",
              "0            0  \n",
              "1            0  \n",
              "2            0  \n",
              "3            1  \n",
              "4            0  \n",
              "...        ...  \n",
              "987995       0  \n",
              "987996       0  \n",
              "987997       1  \n",
              "987998       1  \n",
              "987999       0  \n",
              "\n",
              "[988000 rows x 16 columns]"
            ],
            "text/html": [
              "\n",
              "\n",
              "  <div id=\"df-887b8783-e17a-45ab-bc20-6431b3bc2b7f\">\n",
              "    <div class=\"colab-df-container\">\n",
              "      <div>\n",
              "<style scoped>\n",
              "    .dataframe tbody tr th:only-of-type {\n",
              "        vertical-align: middle;\n",
              "    }\n",
              "\n",
              "    .dataframe tbody tr th {\n",
              "        vertical-align: top;\n",
              "    }\n",
              "\n",
              "    .dataframe thead th {\n",
              "        text-align: right;\n",
              "    }\n",
              "</style>\n",
              "<table border=\"1\" class=\"dataframe\">\n",
              "  <thead>\n",
              "    <tr style=\"text-align: right;\">\n",
              "      <th></th>\n",
              "      <th>일자</th>\n",
              "      <th>종목코드</th>\n",
              "      <th>종목명</th>\n",
              "      <th>거래량</th>\n",
              "      <th>시가</th>\n",
              "      <th>고가</th>\n",
              "      <th>저가</th>\n",
              "      <th>종가</th>\n",
              "      <th>일일 수익률</th>\n",
              "      <th>ATR</th>\n",
              "      <th>VWAP</th>\n",
              "      <th>RSI</th>\n",
              "      <th>CCI</th>\n",
              "      <th>누적 수익률</th>\n",
              "      <th>이슈</th>\n",
              "      <th>종목명_구분</th>\n",
              "    </tr>\n",
              "  </thead>\n",
              "  <tbody>\n",
              "    <tr>\n",
              "      <th>0</th>\n",
              "      <td>20210601</td>\n",
              "      <td>A050110</td>\n",
              "      <td>캠시스</td>\n",
              "      <td>361179</td>\n",
              "      <td>2285</td>\n",
              "      <td>2310</td>\n",
              "      <td>2270</td>\n",
              "      <td>2295</td>\n",
              "      <td>0.004376</td>\n",
              "      <td>91.071429</td>\n",
              "      <td>2295.0</td>\n",
              "      <td>35.185185</td>\n",
              "      <td>54.526777</td>\n",
              "      <td>0.000000</td>\n",
              "      <td>0</td>\n",
              "      <td>0</td>\n",
              "    </tr>\n",
              "    <tr>\n",
              "      <th>1</th>\n",
              "      <td>20210601</td>\n",
              "      <td>A066310</td>\n",
              "      <td>큐에스아이</td>\n",
              "      <td>10757</td>\n",
              "      <td>15550</td>\n",
              "      <td>15750</td>\n",
              "      <td>15500</td>\n",
              "      <td>15550</td>\n",
              "      <td>-0.006390</td>\n",
              "      <td>464.285714</td>\n",
              "      <td>15550.0</td>\n",
              "      <td>40.000000</td>\n",
              "      <td>36.014134</td>\n",
              "      <td>0.000000</td>\n",
              "      <td>0</td>\n",
              "      <td>0</td>\n",
              "    </tr>\n",
              "    <tr>\n",
              "      <th>2</th>\n",
              "      <td>20210601</td>\n",
              "      <td>A289220</td>\n",
              "      <td>자이언트스텝</td>\n",
              "      <td>509072</td>\n",
              "      <td>43550</td>\n",
              "      <td>44800</td>\n",
              "      <td>42500</td>\n",
              "      <td>42700</td>\n",
              "      <td>0.023981</td>\n",
              "      <td>3453.571429</td>\n",
              "      <td>42700.0</td>\n",
              "      <td>54.517134</td>\n",
              "      <td>40.400471</td>\n",
              "      <td>0.000000</td>\n",
              "      <td>0</td>\n",
              "      <td>0</td>\n",
              "    </tr>\n",
              "    <tr>\n",
              "      <th>3</th>\n",
              "      <td>20210601</td>\n",
              "      <td>A016090</td>\n",
              "      <td>대현</td>\n",
              "      <td>2552913</td>\n",
              "      <td>2860</td>\n",
              "      <td>3045</td>\n",
              "      <td>2815</td>\n",
              "      <td>3020</td>\n",
              "      <td>0.052265</td>\n",
              "      <td>150.357143</td>\n",
              "      <td>3020.0</td>\n",
              "      <td>62.433862</td>\n",
              "      <td>130.115847</td>\n",
              "      <td>0.000000</td>\n",
              "      <td>0</td>\n",
              "      <td>1</td>\n",
              "    </tr>\n",
              "    <tr>\n",
              "      <th>4</th>\n",
              "      <td>20210601</td>\n",
              "      <td>A048550</td>\n",
              "      <td>SM C&amp;C</td>\n",
              "      <td>17769900</td>\n",
              "      <td>2750</td>\n",
              "      <td>2850</td>\n",
              "      <td>2710</td>\n",
              "      <td>2780</td>\n",
              "      <td>0.153527</td>\n",
              "      <td>131.785714</td>\n",
              "      <td>2780.0</td>\n",
              "      <td>91.566265</td>\n",
              "      <td>171.387105</td>\n",
              "      <td>0.000000</td>\n",
              "      <td>0</td>\n",
              "      <td>0</td>\n",
              "    </tr>\n",
              "    <tr>\n",
              "      <th>...</th>\n",
              "      <td>...</td>\n",
              "      <td>...</td>\n",
              "      <td>...</td>\n",
              "      <td>...</td>\n",
              "      <td>...</td>\n",
              "      <td>...</td>\n",
              "      <td>...</td>\n",
              "      <td>...</td>\n",
              "      <td>...</td>\n",
              "      <td>...</td>\n",
              "      <td>...</td>\n",
              "      <td>...</td>\n",
              "      <td>...</td>\n",
              "      <td>...</td>\n",
              "      <td>...</td>\n",
              "      <td>...</td>\n",
              "    </tr>\n",
              "    <tr>\n",
              "      <th>987995</th>\n",
              "      <td>20230530</td>\n",
              "      <td>A033340</td>\n",
              "      <td>좋은사람들</td>\n",
              "      <td>0</td>\n",
              "      <td>0</td>\n",
              "      <td>0</td>\n",
              "      <td>0</td>\n",
              "      <td>2110</td>\n",
              "      <td>0.000000</td>\n",
              "      <td>2110.000000</td>\n",
              "      <td>8880.0</td>\n",
              "      <td>100.000000</td>\n",
              "      <td>31.321869</td>\n",
              "      <td>-0.093023</td>\n",
              "      <td>0</td>\n",
              "      <td>0</td>\n",
              "    </tr>\n",
              "    <tr>\n",
              "      <th>987996</th>\n",
              "      <td>20230530</td>\n",
              "      <td>A030520</td>\n",
              "      <td>한글과컴퓨터</td>\n",
              "      <td>100091</td>\n",
              "      <td>14640</td>\n",
              "      <td>14870</td>\n",
              "      <td>14520</td>\n",
              "      <td>14800</td>\n",
              "      <td>0.019284</td>\n",
              "      <td>327.142857</td>\n",
              "      <td>14800.0</td>\n",
              "      <td>68.862275</td>\n",
              "      <td>-41.453846</td>\n",
              "      <td>-0.290528</td>\n",
              "      <td>0</td>\n",
              "      <td>0</td>\n",
              "    </tr>\n",
              "    <tr>\n",
              "      <th>987997</th>\n",
              "      <td>20230530</td>\n",
              "      <td>A267260</td>\n",
              "      <td>HD현대일렉트릭</td>\n",
              "      <td>196698</td>\n",
              "      <td>48300</td>\n",
              "      <td>48600</td>\n",
              "      <td>46800</td>\n",
              "      <td>48100</td>\n",
              "      <td>-0.003109</td>\n",
              "      <td>2028.571429</td>\n",
              "      <td>48100.0</td>\n",
              "      <td>46.153846</td>\n",
              "      <td>-42.537689</td>\n",
              "      <td>4.103830</td>\n",
              "      <td>0</td>\n",
              "      <td>1</td>\n",
              "    </tr>\n",
              "    <tr>\n",
              "      <th>987998</th>\n",
              "      <td>20230530</td>\n",
              "      <td>A139130</td>\n",
              "      <td>DGB금융지주</td>\n",
              "      <td>257887</td>\n",
              "      <td>7010</td>\n",
              "      <td>7040</td>\n",
              "      <td>6970</td>\n",
              "      <td>7010</td>\n",
              "      <td>0.001429</td>\n",
              "      <td>77.142857</td>\n",
              "      <td>7010.0</td>\n",
              "      <td>51.923077</td>\n",
              "      <td>-28.678438</td>\n",
              "      <td>0.603332</td>\n",
              "      <td>0</td>\n",
              "      <td>1</td>\n",
              "    </tr>\n",
              "    <tr>\n",
              "      <th>987999</th>\n",
              "      <td>20230530</td>\n",
              "      <td>A238490</td>\n",
              "      <td>힘스</td>\n",
              "      <td>2611843</td>\n",
              "      <td>6410</td>\n",
              "      <td>8220</td>\n",
              "      <td>6300</td>\n",
              "      <td>8220</td>\n",
              "      <td>0.298578</td>\n",
              "      <td>384.285714</td>\n",
              "      <td>8220.0</td>\n",
              "      <td>76.737160</td>\n",
              "      <td>324.576378</td>\n",
              "      <td>-0.176076</td>\n",
              "      <td>0</td>\n",
              "      <td>0</td>\n",
              "    </tr>\n",
              "  </tbody>\n",
              "</table>\n",
              "<p>988000 rows × 16 columns</p>\n",
              "</div>\n",
              "      <button class=\"colab-df-convert\" onclick=\"convertToInteractive('df-887b8783-e17a-45ab-bc20-6431b3bc2b7f')\"\n",
              "              title=\"Convert this dataframe to an interactive table.\"\n",
              "              style=\"display:none;\">\n",
              "\n",
              "  <svg xmlns=\"http://www.w3.org/2000/svg\" height=\"24px\"viewBox=\"0 0 24 24\"\n",
              "       width=\"24px\">\n",
              "    <path d=\"M0 0h24v24H0V0z\" fill=\"none\"/>\n",
              "    <path d=\"M18.56 5.44l.94 2.06.94-2.06 2.06-.94-2.06-.94-.94-2.06-.94 2.06-2.06.94zm-11 1L8.5 8.5l.94-2.06 2.06-.94-2.06-.94L8.5 2.5l-.94 2.06-2.06.94zm10 10l.94 2.06.94-2.06 2.06-.94-2.06-.94-.94-2.06-.94 2.06-2.06.94z\"/><path d=\"M17.41 7.96l-1.37-1.37c-.4-.4-.92-.59-1.43-.59-.52 0-1.04.2-1.43.59L10.3 9.45l-7.72 7.72c-.78.78-.78 2.05 0 2.83L4 21.41c.39.39.9.59 1.41.59.51 0 1.02-.2 1.41-.59l7.78-7.78 2.81-2.81c.8-.78.8-2.07 0-2.86zM5.41 20L4 18.59l7.72-7.72 1.47 1.35L5.41 20z\"/>\n",
              "  </svg>\n",
              "      </button>\n",
              "\n",
              "\n",
              "\n",
              "    <div id=\"df-f5754913-bb19-4954-9537-a6ef72739c05\">\n",
              "      <button class=\"colab-df-quickchart\" onclick=\"quickchart('df-f5754913-bb19-4954-9537-a6ef72739c05')\"\n",
              "              title=\"Suggest charts.\"\n",
              "              style=\"display:none;\">\n",
              "\n",
              "<svg xmlns=\"http://www.w3.org/2000/svg\" height=\"24px\"viewBox=\"0 0 24 24\"\n",
              "     width=\"24px\">\n",
              "    <g>\n",
              "        <path d=\"M19 3H5c-1.1 0-2 .9-2 2v14c0 1.1.9 2 2 2h14c1.1 0 2-.9 2-2V5c0-1.1-.9-2-2-2zM9 17H7v-7h2v7zm4 0h-2V7h2v10zm4 0h-2v-4h2v4z\"/>\n",
              "    </g>\n",
              "</svg>\n",
              "      </button>\n",
              "    </div>\n",
              "\n",
              "<style>\n",
              "  .colab-df-quickchart {\n",
              "    background-color: #E8F0FE;\n",
              "    border: none;\n",
              "    border-radius: 50%;\n",
              "    cursor: pointer;\n",
              "    display: none;\n",
              "    fill: #1967D2;\n",
              "    height: 32px;\n",
              "    padding: 0 0 0 0;\n",
              "    width: 32px;\n",
              "  }\n",
              "\n",
              "  .colab-df-quickchart:hover {\n",
              "    background-color: #E2EBFA;\n",
              "    box-shadow: 0px 1px 2px rgba(60, 64, 67, 0.3), 0px 1px 3px 1px rgba(60, 64, 67, 0.15);\n",
              "    fill: #174EA6;\n",
              "  }\n",
              "\n",
              "  [theme=dark] .colab-df-quickchart {\n",
              "    background-color: #3B4455;\n",
              "    fill: #D2E3FC;\n",
              "  }\n",
              "\n",
              "  [theme=dark] .colab-df-quickchart:hover {\n",
              "    background-color: #434B5C;\n",
              "    box-shadow: 0px 1px 3px 1px rgba(0, 0, 0, 0.15);\n",
              "    filter: drop-shadow(0px 1px 2px rgba(0, 0, 0, 0.3));\n",
              "    fill: #FFFFFF;\n",
              "  }\n",
              "</style>\n",
              "\n",
              "    <script>\n",
              "      async function quickchart(key) {\n",
              "        const containerElement = document.querySelector('#' + key);\n",
              "        const charts = await google.colab.kernel.invokeFunction(\n",
              "            'suggestCharts', [key], {});\n",
              "      }\n",
              "    </script>\n",
              "\n",
              "      <script>\n",
              "\n",
              "function displayQuickchartButton(domScope) {\n",
              "  let quickchartButtonEl =\n",
              "    domScope.querySelector('#df-f5754913-bb19-4954-9537-a6ef72739c05 button.colab-df-quickchart');\n",
              "  quickchartButtonEl.style.display =\n",
              "    google.colab.kernel.accessAllowed ? 'block' : 'none';\n",
              "}\n",
              "\n",
              "        displayQuickchartButton(document);\n",
              "      </script>\n",
              "      <style>\n",
              "    .colab-df-container {\n",
              "      display:flex;\n",
              "      flex-wrap:wrap;\n",
              "      gap: 12px;\n",
              "    }\n",
              "\n",
              "    .colab-df-convert {\n",
              "      background-color: #E8F0FE;\n",
              "      border: none;\n",
              "      border-radius: 50%;\n",
              "      cursor: pointer;\n",
              "      display: none;\n",
              "      fill: #1967D2;\n",
              "      height: 32px;\n",
              "      padding: 0 0 0 0;\n",
              "      width: 32px;\n",
              "    }\n",
              "\n",
              "    .colab-df-convert:hover {\n",
              "      background-color: #E2EBFA;\n",
              "      box-shadow: 0px 1px 2px rgba(60, 64, 67, 0.3), 0px 1px 3px 1px rgba(60, 64, 67, 0.15);\n",
              "      fill: #174EA6;\n",
              "    }\n",
              "\n",
              "    [theme=dark] .colab-df-convert {\n",
              "      background-color: #3B4455;\n",
              "      fill: #D2E3FC;\n",
              "    }\n",
              "\n",
              "    [theme=dark] .colab-df-convert:hover {\n",
              "      background-color: #434B5C;\n",
              "      box-shadow: 0px 1px 3px 1px rgba(0, 0, 0, 0.15);\n",
              "      filter: drop-shadow(0px 1px 2px rgba(0, 0, 0, 0.3));\n",
              "      fill: #FFFFFF;\n",
              "    }\n",
              "  </style>\n",
              "\n",
              "      <script>\n",
              "        const buttonEl =\n",
              "          document.querySelector('#df-887b8783-e17a-45ab-bc20-6431b3bc2b7f button.colab-df-convert');\n",
              "        buttonEl.style.display =\n",
              "          google.colab.kernel.accessAllowed ? 'block' : 'none';\n",
              "\n",
              "        async function convertToInteractive(key) {\n",
              "          const element = document.querySelector('#df-887b8783-e17a-45ab-bc20-6431b3bc2b7f');\n",
              "          const dataTable =\n",
              "            await google.colab.kernel.invokeFunction('convertToInteractive',\n",
              "                                                     [key], {});\n",
              "          if (!dataTable) return;\n",
              "\n",
              "          const docLinkHtml = 'Like what you see? Visit the ' +\n",
              "            '<a target=\"_blank\" href=https://colab.research.google.com/notebooks/data_table.ipynb>data table notebook</a>'\n",
              "            + ' to learn more about interactive tables.';\n",
              "          element.innerHTML = '';\n",
              "          dataTable['output_type'] = 'display_data';\n",
              "          await google.colab.output.renderOutput(dataTable, element);\n",
              "          const docLink = document.createElement('div');\n",
              "          docLink.innerHTML = docLinkHtml;\n",
              "          element.appendChild(docLink);\n",
              "        }\n",
              "      </script>\n",
              "    </div>\n",
              "  </div>\n"
            ]
          },
          "metadata": {},
          "execution_count": 7
        }
      ]
    },
    {
      "cell_type": "code",
      "source": [
        "from sklearn.preprocessing import MinMaxScaler\n",
        "from tensorflow.keras.models import Sequential\n",
        "from tensorflow.keras.layers import LSTM, Dense\n",
        "import tensorflow\n",
        "from tensorflow.keras.layers import Conv1D, LSTM, Dense, Dropout, Bidirectional, TimeDistributed\n",
        "from tensorflow.keras.layers import MaxPooling1D, Flatten\n",
        "from tensorflow.keras.regularizers import L1, L2\n",
        "from tensorflow.keras.metrics import Accuracy\n",
        "from tensorflow.keras.metrics import RootMeanSquaredError\n",
        "from tqdm import tqdm\n",
        "import numpy as np\n",
        "from sklearn.metrics import mean_squared_error\n",
        "import math\n",
        "import matplotlib.pyplot as plt"
      ],
      "metadata": {
        "id": "6-NirvWvz4G9"
      },
      "execution_count": 10,
      "outputs": []
    },
    {
      "cell_type": "code",
      "source": [
        "def calculate_sharp(predicted_closing_prices):\n",
        "    # 종가 데이터로부터 수익률을 계산합니다.\n",
        "    returns = np.diff(predicted_closing_prices, axis=0) / predicted_closing_prices[:-1]\n",
        "    # 평균 수익률을 계산합니다.\n",
        "    mean_return = np.mean(returns)\n",
        "    # 표준편차를 계산하여 위험을 측정합니다.\n",
        "    std_return = np.std(returns)\n",
        "    # 샤프 지수를 계산합니다.\n",
        "    sharpe_ratio = mean_return / std_return\n",
        "    return sharpe_ratio"
      ],
      "metadata": {
        "id": "b3f1mjuLF2Wg"
      },
      "execution_count": 9,
      "outputs": []
    },
    {
      "cell_type": "code",
      "source": [
        "# 각 종목에 대해 반복\n",
        "unique_codes = result[\"종목코드\"].unique()[:1]\n",
        "# 추론 결과를 저장하기 위한 dataframe 생성\n",
        "results_df = pd.DataFrame(columns=['종목코드', '수익률', '샤프지수'])\n",
        "for code in tqdm(unique_codes):\n",
        "\n",
        "    # 훈련 데이터 생성\n",
        "    train_data = result[result['종목코드'] == code][['일자', '거래량','시가','고가','저가','종가','일일 수익률']]\n",
        "    train_data['일자'] = pd.to_datetime(train_data['일자'], format='%Y%m%d')\n",
        "    train_data.set_index('일자', inplace=True)\n",
        "    train_data = train_data.loc['2021-06-01':'2023-01-30']\n",
        "    train_values = train_data.values\n",
        "\n",
        "    # 테스트 데이터\n",
        "    test_data = result[result['종목코드'] == code][['일자', '거래량','시가','고가','저가','종가','일일 수익률']]\n",
        "    test_data['일자'] = pd.to_datetime(test_data['일자'], format='%Y%m%d')\n",
        "    test_data.set_index('일자', inplace=True)\n",
        "    test_data = test_data.loc['2023-02-01':'2023-05-30']\n",
        "    test_values = test_data.values\n",
        "\n",
        "    # 데이터 정규화\n",
        "    scaler = MinMaxScaler(feature_range=(0, 1))\n",
        "    train_scaled = scaler.fit_transform(train_values)\n",
        "    test_scaled = scaler.transform(test_values)\n",
        "\n",
        "    # 입력 데이터 사이즈 세팅\n",
        "    window_size = 30\n",
        "\n",
        "    # LSTM train, test 데이터 생성\n",
        "    X_train, y_train = [], []\n",
        "    for i in range(len(train_scaled) - window_size):\n",
        "        X_train.append(train_scaled[i:i + window_size])\n",
        "        y_train.append(train_scaled[i + window_size, 4]) # 종가\n",
        "    X_train, y_train = np.array(X_train), np.array(y_train)\n",
        "\n",
        "    X_test, y_test = [], []\n",
        "    for i in range(len(test_scaled) - window_size):\n",
        "        X_test.append(test_scaled[i:i + window_size])\n",
        "        y_test.append(test_scaled[i + window_size, 4]) # 종가\n",
        "    X_test, y_test = np.array(X_test), np.array(y_test)\n",
        "\n",
        "    # Reshape LSTM (samples, time steps, features)\n",
        "    X_train = np.reshape(X_train, (X_train.shape[0], X_train.shape[1], train_scaled.shape[1]))\n",
        "    X_test = np.reshape(X_test, (X_test.shape[0], X_test.shape[1], test_scaled.shape[1]))\n",
        "\n",
        "    # 모델 빌드\n",
        "    model = Sequential()\n",
        "    # LSTM layers\n",
        "    model.add(LSTM(units=50, return_sequences=True, input_shape=(window_size, train_scaled.shape[1])))\n",
        "    model.add(LSTM(units=50))\n",
        "    model.add(Dropout(0.5))\n",
        "    model.add(Dense(units=1))\n",
        "    model.compile(optimizer='adam', loss='mean_squared_error')\n",
        "\n",
        "    # LSTM 생성\n",
        "    history = model.fit(X_train, y_train, epochs=50, batch_size=32, verbose=0, validation_data = (X_test, y_test))\n",
        "    # 예측\n",
        "    predictions = model.predict(X_test)\n",
        "    # mse\n",
        "    mse = mean_squared_error(y_test, predictions)\n",
        "    # 수익률 예측\n",
        "    final_return = (predictions[-1] - predictions[0]) / predictions[0]\n",
        "    # 샤프지수\n",
        "    sharp_index = calculate_sharp(predictions)\n",
        "    # 결과\n",
        "    results_df = results_df.append({'종목코드': code, '수익률': final_return[0], '샤프지수':sharp_index}, ignore_index=True)\n",
        "    print(\"code: \",code,\"수익률: \",final_return[0], \"mse: \",mse)\n",
        "\n",
        "    print('training loss:', history.history['loss'][-1])\n",
        "    print('validation loss:', history.history['val_loss'][-1])\n",
        "\n",
        "    # Plot training & validation loss values\n",
        "    plt.plot(history.history['loss'])\n",
        "    plt.plot(history.history['val_loss'])\n",
        "    plt.title('Model loss')\n",
        "    plt.ylabel('Loss')\n",
        "    plt.xlabel('Epoch')\n",
        "    plt.legend(['Train', 'Test'], loc='upper left')\n",
        "\n",
        "    # Plot actual vs predicted\n",
        "    plt.figure()\n",
        "    plt.plot(y_test, label='Actual')\n",
        "    plt.plot(predictions, label='Predicted')\n",
        "    plt.title('Actual vs Predicted Values')\n",
        "    plt.legend()\n",
        "    plt.show()"
      ],
      "metadata": {
        "colab": {
          "base_uri": "https://localhost:8080/",
          "height": 996
        },
        "id": "MtisXvwVtV0-",
        "outputId": "e6000faf-43f9-41b0-e164-2671d7967bc8"
      },
      "execution_count": 16,
      "outputs": [
        {
          "output_type": "stream",
          "name": "stderr",
          "text": [
            "\r  0%|          | 0/1 [00:00<?, ?it/s]"
          ]
        },
        {
          "output_type": "stream",
          "name": "stdout",
          "text": [
            "2/2 [==============================] - 1s 15ms/step\n",
            "code:  A050110 수익률:  -0.38450402 mse:  0.0011833617713098903\n",
            "training loss: 0.0052690957672894\n",
            "validation loss: 0.0011833617463707924\n"
          ]
        },
        {
          "output_type": "display_data",
          "data": {
            "text/plain": [
              "<Figure size 640x480 with 1 Axes>"
            ],
            "image/png": "[encoded data removed]"
          },
          "metadata": {}
        },
        {
          "output_type": "display_data",
          "data": {
            "text/plain": [
              "<Figure size 640x480 with 1 Axes>"
            ],
            "image/png": "[encoded data removed]"
          },
          "metadata": {}
        },
        {
          "output_type": "stream",
          "name": "stderr",
          "text": [
            "100%|██████████| 1/1 [00:30<00:00, 30.48s/it]\n"
          ]
        }
      ]
    },
    {
      "cell_type": "code",
      "source": [
        "# 각 종목에 대해 반복\n",
        "unique_codes = result[\"종목코드\"].unique()\n",
        "# 추론 결과를 저장하기 위한 dataframe 생성\n",
        "results_df = pd.DataFrame(columns=['종목코드', '수익률', '샤프지수'])\n",
        "data_len = math.ceil(len(result)*0.8)\n",
        "for code in tqdm(unique_codes):\n",
        "\n",
        "    # 훈련 데이터 생성\n",
        "    train_data = result[result['종목코드'] == code][['일자', '거래량','시가','고가','저가','종가','일일 수익률']]\n",
        "    train_data['일자'] = pd.to_datetime(train_data['일자'], format='%Y%m%d')\n",
        "    train_data.set_index('일자', inplace=True)\n",
        "    train_data = train_data.loc['2021-06-01':'2023-01-30']\n",
        "    train_values = train_data.values\n",
        "\n",
        "    # 테스트 데이터\n",
        "    test_data = result[result['종목코드'] == code][['일자', '거래량','시가','고가','저가','종가','일일 수익률']]\n",
        "    test_data['일자'] = pd.to_datetime(test_data['일자'], format='%Y%m%d')\n",
        "    test_data.set_index('일자', inplace=True)\n",
        "    test_data = test_data.loc['2023-02-01':'2023-05-30']\n",
        "    test_values = test_data.values\n",
        "\n",
        "    # 데이터 정규화\n",
        "    scaler = MinMaxScaler(feature_range=(0, 1))\n",
        "    train_scaled = scaler.fit_transform(train_values)\n",
        "    test_scaled = scaler.transform(test_values)\n",
        "\n",
        "    # 입력 데이터 사이즈 세팅\n",
        "    window_size = 30\n",
        "\n",
        "    # LSTM train, test 데이터 생성\n",
        "    X_train, y_train = [], []\n",
        "    for i in range(len(train_scaled) - window_size):\n",
        "        X_train.append(train_scaled[i:i + window_size])\n",
        "        y_train.append(train_scaled[i + window_size, 4]) # 4번째 열 종가\n",
        "    X_train, y_train = np.array(X_train), np.array(y_train)\n",
        "\n",
        "    X_test, y_test = [], []\n",
        "    for i in range(len(test_scaled) - window_size):\n",
        "        X_test.append(test_scaled[i:i + window_size])\n",
        "        y_test.append(test_scaled[i + window_size, 4]) # 4번째 열 종가\n",
        "    X_test, y_test = np.array(X_test), np.array(y_test)\n",
        "\n",
        "    # Reshape LSTM (samples, time steps, features)\n",
        "    X_train = np.reshape(X_train, (X_train.shape[0], X_train.shape[1], train_scaled.shape[1]))\n",
        "    X_test = np.reshape(X_test, (X_test.shape[0], X_test.shape[1], test_scaled.shape[1]))\n",
        "\n",
        "    # 모델 빌드\n",
        "    model = Sequential()\n",
        "    # LSTM layers\n",
        "    model.add(LSTM(units=50, return_sequences=True, input_shape=(window_size, train_scaled.shape[1])))\n",
        "    model.add(LSTM(units=50))\n",
        "    model.add(Dropout(0.5))\n",
        "    model.add(Dense(units=1))\n",
        "    model.compile(optimizer='adam', loss='mean_squared_error')\n",
        "\n",
        "    # LSTM 생성\n",
        "    model.fit(X_train, y_train, epochs=30, batch_size=32, verbose=0, validation_data = (X_test, y_test))\n",
        "\n",
        "    # 예측\n",
        "    predictions = model.predict(X_test)\n",
        "    # mse\n",
        "    mse = mean_squared_error(y_test, predictions)\n",
        "    # 수익률 예측\n",
        "    final_return = (predictions[-1] - predictions[0]) / predictions[0]\n",
        "    # 샤프지수\n",
        "    sharp_index = calculate_sharp(predictions)\n",
        "    # 결과\n",
        "    results_df = results_df.append({'종목코드': code, '수익률': final_return[0], '샤프지수':sharp_index}, ignore_index=True)\n",
        "    print(\"code: \",code,\"수익률: \",final_return[0], \"mse: \",mse)"
      ],
      "metadata": {
        "colab": {
          "base_uri": "https://localhost:8080/",
          "height": 1000
        },
        "id": "6YMauzMA0wtd",
        "outputId": "4d9efe39-d08d-4490-aac8-7ba17e42fe12"
      },
      "execution_count": null,
      "outputs": [
        {
          "output_type": "stream",
          "name": "stderr",
          "text": [
            "\r  0%|          | 0/2000 [00:00<?, ?it/s]"
          ]
        },
        {
          "output_type": "stream",
          "name": "stdout",
          "text": [
            "2/2 [==============================] - 1s 9ms/step\n"
          ]
        },
        {
          "output_type": "stream",
          "name": "stderr",
          "text": [
            "<ipython-input-76-79eaa660750f>:71: FutureWarning: The frame.append method is deprecated and will be removed from pandas in a future version. Use pandas.concat instead.\n",
            "  results_df = results_df.append({'종목코드': code, '수익률': final_return[0], '샤프지수':sharp_index}, ignore_index=True)\n",
            "\r  0%|          | 1/2000 [00:19<10:53:07, 19.60s/it]"
          ]
        },
        {
          "output_type": "stream",
          "name": "stdout",
          "text": [
            "code:  A050110 수익률:  -0.40659073 mse:  0.0009410112887650782\n",
            "2/2 [==============================] - 1s 12ms/step\n"
          ]
        },
        {
          "output_type": "stream",
          "name": "stderr",
          "text": [
            "<ipython-input-76-79eaa660750f>:71: FutureWarning: The frame.append method is deprecated and will be removed from pandas in a future version. Use pandas.concat instead.\n",
            "  results_df = results_df.append({'종목코드': code, '수익률': final_return[0], '샤프지수':sharp_index}, ignore_index=True)\n",
            "\r  0%|          | 2/2000 [00:45<12:51:33, 23.17s/it]"
          ]
        },
        {
          "output_type": "stream",
          "name": "stdout",
          "text": [
            "code:  A066310 수익률:  -0.017738584 mse:  0.00033274089006689344\n",
            "2/2 [==============================] - 1s 9ms/step\n"
          ]
        },
        {
          "output_type": "stream",
          "name": "stderr",
          "text": [
            "<ipython-input-76-79eaa660750f>:71: FutureWarning: The frame.append method is deprecated and will be removed from pandas in a future version. Use pandas.concat instead.\n",
            "  results_df = results_df.append({'종목코드': code, '수익률': final_return[0], '샤프지수':sharp_index}, ignore_index=True)\n",
            "\r  0%|          | 3/2000 [00:59<10:41:42, 19.28s/it]"
          ]
        },
        {
          "output_type": "stream",
          "name": "stdout",
          "text": [
            "code:  A289220 수익률:  -0.5984849 mse:  8.924986347335034e-05\n",
            "2/2 [==============================] - 1s 9ms/step\n"
          ]
        },
        {
          "output_type": "stream",
          "name": "stderr",
          "text": [
            "<ipython-input-76-79eaa660750f>:71: FutureWarning: The frame.append method is deprecated and will be removed from pandas in a future version. Use pandas.concat instead.\n",
            "  results_df = results_df.append({'종목코드': code, '수익률': final_return[0], '샤프지수':sharp_index}, ignore_index=True)\n",
            "\r  0%|          | 4/2000 [01:13<9:32:32, 17.21s/it] "
          ]
        },
        {
          "output_type": "stream",
          "name": "stdout",
          "text": [
            "code:  A016090 수익률:  0.11469098 mse:  0.00021995599052394455\n",
            "2/2 [==============================] - 4s 9ms/step\n"
          ]
        },
        {
          "output_type": "stream",
          "name": "stderr",
          "text": [
            "<ipython-input-76-79eaa660750f>:71: FutureWarning: The frame.append method is deprecated and will be removed from pandas in a future version. Use pandas.concat instead.\n",
            "  results_df = results_df.append({'종목코드': code, '수익률': final_return[0], '샤프지수':sharp_index}, ignore_index=True)\n",
            "\r  0%|          | 5/2000 [01:31<9:31:14, 17.18s/it]"
          ]
        },
        {
          "output_type": "stream",
          "name": "stdout",
          "text": [
            "code:  A048550 수익률:  -0.835309 mse:  0.0011408750116491642\n",
            "2/2 [==============================] - 1s 9ms/step\n"
          ]
        },
        {
          "output_type": "stream",
          "name": "stderr",
          "text": [
            "<ipython-input-76-79eaa660750f>:71: FutureWarning: The frame.append method is deprecated and will be removed from pandas in a future version. Use pandas.concat instead.\n",
            "  results_df = results_df.append({'종목코드': code, '수익률': final_return[0], '샤프지수':sharp_index}, ignore_index=True)\n",
            "\r  0%|          | 6/2000 [01:57<11:13:08, 20.26s/it]"
          ]
        },
        {
          "output_type": "stream",
          "name": "stdout",
          "text": [
            "code:  A002360 수익률:  -0.8036629 mse:  0.0008864445546458896\n",
            "2/2 [==============================] - 1s 13ms/step\n"
          ]
        },
        {
          "output_type": "stream",
          "name": "stderr",
          "text": [
            "<ipython-input-76-79eaa660750f>:71: FutureWarning: The frame.append method is deprecated and will be removed from pandas in a future version. Use pandas.concat instead.\n",
            "  results_df = results_df.append({'종목코드': code, '수익률': final_return[0], '샤프지수':sharp_index}, ignore_index=True)\n",
            "\r  0%|          | 7/2000 [02:12<10:16:13, 18.55s/it]"
          ]
        },
        {
          "output_type": "stream",
          "name": "stdout",
          "text": [
            "code:  A284740 수익률:  -1.3967643 mse:  0.0023263621647930883\n",
            "2/2 [==============================] - 1s 9ms/step\n"
          ]
        },
        {
          "output_type": "stream",
          "name": "stderr",
          "text": [
            "<ipython-input-76-79eaa660750f>:71: FutureWarning: The frame.append method is deprecated and will be removed from pandas in a future version. Use pandas.concat instead.\n",
            "  results_df = results_df.append({'종목코드': code, '수익률': final_return[0], '샤프지수':sharp_index}, ignore_index=True)\n",
            "\r  0%|          | 8/2000 [02:27<9:35:58, 17.35s/it] "
          ]
        },
        {
          "output_type": "stream",
          "name": "stdout",
          "text": [
            "code:  A214610 수익률:  -0.38061687 mse:  0.0034654075866696714\n",
            "2/2 [==============================] - 1s 10ms/step\n"
          ]
        },
        {
          "output_type": "stream",
          "name": "stderr",
          "text": [
            "<ipython-input-76-79eaa660750f>:71: FutureWarning: The frame.append method is deprecated and will be removed from pandas in a future version. Use pandas.concat instead.\n",
            "  results_df = results_df.append({'종목코드': code, '수익률': final_return[0], '샤프지수':sharp_index}, ignore_index=True)\n",
            "\r  0%|          | 9/2000 [02:40<8:58:54, 16.24s/it]"
          ]
        },
        {
          "output_type": "stream",
          "name": "stdout",
          "text": [
            "code:  A196490 수익률:  3.7465632 mse:  0.003469638000675959\n",
            "2/2 [==============================] - 1s 9ms/step\n"
          ]
        },
        {
          "output_type": "stream",
          "name": "stderr",
          "text": [
            "<ipython-input-76-79eaa660750f>:71: FutureWarning: The frame.append method is deprecated and will be removed from pandas in a future version. Use pandas.concat instead.\n",
            "  results_df = results_df.append({'종목코드': code, '수익률': final_return[0], '샤프지수':sharp_index}, ignore_index=True)\n",
            "\r  0%|          | 10/2000 [02:59<9:26:29, 17.08s/it]"
          ]
        },
        {
          "output_type": "stream",
          "name": "stdout",
          "text": [
            "code:  A001740 수익률:  0.3682018 mse:  0.005822090763377768\n",
            "2/2 [==============================] - 1s 13ms/step\n"
          ]
        },
        {
          "output_type": "stream",
          "name": "stderr",
          "text": [
            "<ipython-input-76-79eaa660750f>:71: FutureWarning: The frame.append method is deprecated and will be removed from pandas in a future version. Use pandas.concat instead.\n",
            "  results_df = results_df.append({'종목코드': code, '수익률': final_return[0], '샤프지수':sharp_index}, ignore_index=True)\n",
            "\r  1%|          | 11/2000 [03:14<9:05:54, 16.47s/it]"
          ]
        },
        {
          "output_type": "stream",
          "name": "stdout",
          "text": [
            "code:  A230980 수익률:  1.6000067 mse:  0.0005930331737246364\n",
            "2/2 [==============================] - 1s 8ms/step\n"
          ]
        },
        {
          "output_type": "stream",
          "name": "stderr",
          "text": [
            "<ipython-input-76-79eaa660750f>:71: FutureWarning: The frame.append method is deprecated and will be removed from pandas in a future version. Use pandas.concat instead.\n",
            "  results_df = results_df.append({'종목코드': code, '수익률': final_return[0], '샤프지수':sharp_index}, ignore_index=True)\n",
            "\r  1%|          | 12/2000 [03:30<8:58:34, 16.25s/it]"
          ]
        },
        {
          "output_type": "stream",
          "name": "stdout",
          "text": [
            "code:  A018120 수익률:  0.63062394 mse:  0.0029379914679829693\n",
            "2/2 [==============================] - 1s 8ms/step\n"
          ]
        },
        {
          "output_type": "stream",
          "name": "stderr",
          "text": [
            "<ipython-input-76-79eaa660750f>:71: FutureWarning: The frame.append method is deprecated and will be removed from pandas in a future version. Use pandas.concat instead.\n",
            "  results_df = results_df.append({'종목코드': code, '수익률': final_return[0], '샤프지수':sharp_index}, ignore_index=True)\n",
            "\r  1%|          | 13/2000 [03:55<10:19:14, 18.70s/it]"
          ]
        },
        {
          "output_type": "stream",
          "name": "stdout",
          "text": [
            "code:  A000660 수익률:  1.6424172 mse:  0.004809166259440957\n",
            "2/2 [==============================] - 3s 9ms/step\n"
          ]
        },
        {
          "output_type": "stream",
          "name": "stderr",
          "text": [
            "<ipython-input-76-79eaa660750f>:71: FutureWarning: The frame.append method is deprecated and will be removed from pandas in a future version. Use pandas.concat instead.\n",
            "  results_df = results_df.append({'종목코드': code, '수익률': final_return[0], '샤프지수':sharp_index}, ignore_index=True)\n",
            "\r  1%|          | 14/2000 [04:11<9:57:16, 18.04s/it] "
          ]
        },
        {
          "output_type": "stream",
          "name": "stdout",
          "text": [
            "code:  A089470 수익률:  0.99319255 mse:  0.0009114893202478275\n",
            "2/2 [==============================] - 1s 9ms/step\n"
          ]
        },
        {
          "output_type": "stream",
          "name": "stderr",
          "text": [
            "<ipython-input-76-79eaa660750f>:71: FutureWarning: The frame.append method is deprecated and will be removed from pandas in a future version. Use pandas.concat instead.\n",
            "  results_df = results_df.append({'종목코드': code, '수익률': final_return[0], '샤프지수':sharp_index}, ignore_index=True)\n",
            "\r  1%|          | 15/2000 [04:28<9:42:02, 17.59s/it]"
          ]
        },
        {
          "output_type": "stream",
          "name": "stdout",
          "text": [
            "code:  A131290 수익률:  2.6238015 mse:  0.0016201889217403326\n",
            "2/2 [==============================] - 1s 11ms/step\n"
          ]
        },
        {
          "output_type": "stream",
          "name": "stderr",
          "text": [
            "<ipython-input-76-79eaa660750f>:71: FutureWarning: The frame.append method is deprecated and will be removed from pandas in a future version. Use pandas.concat instead.\n",
            "  results_df = results_df.append({'종목코드': code, '수익률': final_return[0], '샤프지수':sharp_index}, ignore_index=True)\n",
            "\r  1%|          | 16/2000 [04:42<9:11:30, 16.68s/it]"
          ]
        },
        {
          "output_type": "stream",
          "name": "stdout",
          "text": [
            "code:  A320000 수익률:  -0.280491 mse:  0.33225165468735357\n",
            "2/2 [==============================] - 1s 12ms/step\n"
          ]
        },
        {
          "output_type": "stream",
          "name": "stderr",
          "text": [
            "<ipython-input-76-79eaa660750f>:71: FutureWarning: The frame.append method is deprecated and will be removed from pandas in a future version. Use pandas.concat instead.\n",
            "  results_df = results_df.append({'종목코드': code, '수익률': final_return[0], '샤프지수':sharp_index}, ignore_index=True)\n",
            "\r  1%|          | 17/2000 [05:07<10:32:45, 19.15s/it]"
          ]
        },
        {
          "output_type": "stream",
          "name": "stdout",
          "text": [
            "code:  A003000 수익률:  -0.11594523 mse:  0.00034842090272443064\n",
            "2/2 [==============================] - 1s 13ms/step\n"
          ]
        },
        {
          "output_type": "stream",
          "name": "stderr",
          "text": [
            "<ipython-input-76-79eaa660750f>:71: FutureWarning: The frame.append method is deprecated and will be removed from pandas in a future version. Use pandas.concat instead.\n",
            "  results_df = results_df.append({'종목코드': code, '수익률': final_return[0], '샤프지수':sharp_index}, ignore_index=True)\n",
            "\r  1%|          | 18/2000 [05:21<9:37:49, 17.49s/it] "
          ]
        },
        {
          "output_type": "stream",
          "name": "stdout",
          "text": [
            "code:  A006060 수익률:  -0.50707257 mse:  0.002582559690980599\n",
            "2/2 [==============================] - 1s 11ms/step\n"
          ]
        },
        {
          "output_type": "stream",
          "name": "stderr",
          "text": [
            "<ipython-input-76-79eaa660750f>:71: FutureWarning: The frame.append method is deprecated and will be removed from pandas in a future version. Use pandas.concat instead.\n",
            "  results_df = results_df.append({'종목코드': code, '수익률': final_return[0], '샤프지수':sharp_index}, ignore_index=True)\n",
            "\r  1%|          | 19/2000 [05:41<10:02:16, 18.24s/it]"
          ]
        },
        {
          "output_type": "stream",
          "name": "stdout",
          "text": [
            "code:  A307750 수익률:  0.46309498 mse:  0.0005364296049500555\n",
            "2/2 [==============================] - 1s 9ms/step\n"
          ]
        },
        {
          "output_type": "stream",
          "name": "stderr",
          "text": [
            "<ipython-input-76-79eaa660750f>:71: FutureWarning: The frame.append method is deprecated and will be removed from pandas in a future version. Use pandas.concat instead.\n",
            "  results_df = results_df.append({'종목코드': code, '수익률': final_return[0], '샤프지수':sharp_index}, ignore_index=True)\n",
            "\r  1%|          | 20/2000 [06:06<11:06:52, 20.21s/it]"
          ]
        },
        {
          "output_type": "stream",
          "name": "stdout",
          "text": [
            "code:  A153460 수익률:  0.3880832 mse:  0.013211936034650627\n",
            "2/2 [==============================] - 1s 9ms/step\n"
          ]
        },
        {
          "output_type": "stream",
          "name": "stderr",
          "text": [
            "<ipython-input-76-79eaa660750f>:71: FutureWarning: The frame.append method is deprecated and will be removed from pandas in a future version. Use pandas.concat instead.\n",
            "  results_df = results_df.append({'종목코드': code, '수익률': final_return[0], '샤프지수':sharp_index}, ignore_index=True)\n",
            "\r  1%|          | 21/2000 [06:20<10:07:15, 18.41s/it]"
          ]
        },
        {
          "output_type": "stream",
          "name": "stdout",
          "text": [
            "code:  A200130 수익률:  -0.73119277 mse:  0.001332868215021086\n",
            "2/2 [==============================] - 1s 9ms/step\n"
          ]
        },
        {
          "output_type": "stream",
          "name": "stderr",
          "text": [
            "<ipython-input-76-79eaa660750f>:71: FutureWarning: The frame.append method is deprecated and will be removed from pandas in a future version. Use pandas.concat instead.\n",
            "  results_df = results_df.append({'종목코드': code, '수익률': final_return[0], '샤프지수':sharp_index}, ignore_index=True)\n",
            "\r  1%|          | 22/2000 [06:34<9:25:57, 17.17s/it] "
          ]
        },
        {
          "output_type": "stream",
          "name": "stdout",
          "text": [
            "code:  A314930 수익률:  0.6523915 mse:  0.00677233070888636\n",
            "2/2 [==============================] - 1s 12ms/step\n"
          ]
        },
        {
          "output_type": "stream",
          "name": "stderr",
          "text": [
            "<ipython-input-76-79eaa660750f>:71: FutureWarning: The frame.append method is deprecated and will be removed from pandas in a future version. Use pandas.concat instead.\n",
            "  results_df = results_df.append({'종목코드': code, '수익률': final_return[0], '샤프지수':sharp_index}, ignore_index=True)\n",
            "\r  1%|          | 23/2000 [06:47<8:49:20, 16.07s/it]"
          ]
        },
        {
          "output_type": "stream",
          "name": "stdout",
          "text": [
            "code:  A037460 수익률:  0.41873452 mse:  0.0007899820075714553\n",
            "2/2 [==============================] - 1s 9ms/step\n"
          ]
        },
        {
          "output_type": "stream",
          "name": "stderr",
          "text": [
            "<ipython-input-76-79eaa660750f>:71: FutureWarning: The frame.append method is deprecated and will be removed from pandas in a future version. Use pandas.concat instead.\n",
            "  results_df = results_df.append({'종목코드': code, '수익률': final_return[0], '샤프지수':sharp_index}, ignore_index=True)\n",
            "\r  1%|          | 24/2000 [07:07<9:20:34, 17.02s/it]"
          ]
        },
        {
          "output_type": "stream",
          "name": "stdout",
          "text": [
            "code:  A092190 수익률:  4.4421387 mse:  0.0012303065748380869\n",
            "2/2 [==============================] - 1s 10ms/step\n"
          ]
        },
        {
          "output_type": "stream",
          "name": "stderr",
          "text": [
            "<ipython-input-76-79eaa660750f>:71: FutureWarning: The frame.append method is deprecated and will be removed from pandas in a future version. Use pandas.concat instead.\n",
            "  results_df = results_df.append({'종목코드': code, '수익률': final_return[0], '샤프지수':sharp_index}, ignore_index=True)\n",
            "\r  1%|▏         | 25/2000 [07:21<8:55:30, 16.27s/it]"
          ]
        },
        {
          "output_type": "stream",
          "name": "stdout",
          "text": [
            "code:  A008040 수익률:  1.58513 mse:  0.0004154221355501815\n",
            "2/2 [==============================] - 1s 9ms/step\n"
          ]
        },
        {
          "output_type": "stream",
          "name": "stderr",
          "text": [
            "<ipython-input-76-79eaa660750f>:71: FutureWarning: The frame.append method is deprecated and will be removed from pandas in a future version. Use pandas.concat instead.\n",
            "  results_df = results_df.append({'종목코드': code, '수익률': final_return[0], '샤프지수':sharp_index}, ignore_index=True)\n",
            "\r  1%|▏         | 26/2000 [07:36<8:36:01, 15.68s/it]"
          ]
        },
        {
          "output_type": "stream",
          "name": "stdout",
          "text": [
            "code:  A352940 수익률:  -0.110804185 mse:  0.00048469074440215523\n",
            "2/2 [==============================] - 1s 10ms/step\n"
          ]
        },
        {
          "output_type": "stream",
          "name": "stderr",
          "text": [
            "<ipython-input-76-79eaa660750f>:71: FutureWarning: The frame.append method is deprecated and will be removed from pandas in a future version. Use pandas.concat instead.\n",
            "  results_df = results_df.append({'종목코드': code, '수익률': final_return[0], '샤프지수':sharp_index}, ignore_index=True)\n",
            "\r  1%|▏         | 27/2000 [07:49<8:15:27, 15.07s/it]"
          ]
        },
        {
          "output_type": "stream",
          "name": "stdout",
          "text": [
            "code:  A290650 수익률:  1.2673874 mse:  0.0041451739897118735\n",
            "2/2 [==============================] - 1s 9ms/step\n"
          ]
        },
        {
          "output_type": "stream",
          "name": "stderr",
          "text": [
            "<ipython-input-76-79eaa660750f>:71: FutureWarning: The frame.append method is deprecated and will be removed from pandas in a future version. Use pandas.concat instead.\n",
            "  results_df = results_df.append({'종목코드': code, '수익률': final_return[0], '샤프지수':sharp_index}, ignore_index=True)\n",
            "\r  1%|▏         | 28/2000 [08:09<9:00:34, 16.45s/it]"
          ]
        },
        {
          "output_type": "stream",
          "name": "stdout",
          "text": [
            "code:  A003460 수익률:  4.780934 mse:  0.003980697009413493\n",
            "2/2 [==============================] - 1s 9ms/step\n"
          ]
        },
        {
          "output_type": "stream",
          "name": "stderr",
          "text": [
            "<ipython-input-76-79eaa660750f>:71: FutureWarning: The frame.append method is deprecated and will be removed from pandas in a future version. Use pandas.concat instead.\n",
            "  results_df = results_df.append({'종목코드': code, '수익률': final_return[0], '샤프지수':sharp_index}, ignore_index=True)\n",
            "\r  1%|▏         | 29/2000 [08:34<10:25:07, 19.03s/it]"
          ]
        },
        {
          "output_type": "stream",
          "name": "stdout",
          "text": [
            "code:  A012610 수익률:  0.04043423 mse:  0.002817389568965969\n",
            "2/2 [==============================] - 1s 12ms/step\n"
          ]
        },
        {
          "output_type": "stream",
          "name": "stderr",
          "text": [
            "<ipython-input-76-79eaa660750f>:71: FutureWarning: The frame.append method is deprecated and will be removed from pandas in a future version. Use pandas.concat instead.\n",
            "  results_df = results_df.append({'종목코드': code, '수익률': final_return[0], '샤프지수':sharp_index}, ignore_index=True)\n",
            "\r  2%|▏         | 30/2000 [08:51<10:02:29, 18.35s/it]"
          ]
        },
        {
          "output_type": "stream",
          "name": "stdout",
          "text": [
            "code:  A208340 수익률:  -0.14672253 mse:  0.0002091304753977006\n",
            "2/2 [==============================] - 1s 8ms/step\n"
          ]
        },
        {
          "output_type": "stream",
          "name": "stderr",
          "text": [
            "<ipython-input-76-79eaa660750f>:71: FutureWarning: The frame.append method is deprecated and will be removed from pandas in a future version. Use pandas.concat instead.\n",
            "  results_df = results_df.append({'종목코드': code, '수익률': final_return[0], '샤프지수':sharp_index}, ignore_index=True)\n",
            "\r  2%|▏         | 31/2000 [09:05<9:22:47, 17.15s/it] "
          ]
        },
        {
          "output_type": "stream",
          "name": "stdout",
          "text": [
            "code:  A009270 수익률:  -0.508156 mse:  7.891564013324817e-05\n",
            "2/2 [==============================] - 1s 12ms/step\n"
          ]
        },
        {
          "output_type": "stream",
          "name": "stderr",
          "text": [
            "<ipython-input-76-79eaa660750f>:71: FutureWarning: The frame.append method is deprecated and will be removed from pandas in a future version. Use pandas.concat instead.\n",
            "  results_df = results_df.append({'종목코드': code, '수익률': final_return[0], '샤프지수':sharp_index}, ignore_index=True)\n",
            "\r  2%|▏         | 32/2000 [09:19<8:47:19, 16.08s/it]"
          ]
        },
        {
          "output_type": "stream",
          "name": "stdout",
          "text": [
            "code:  A032620 수익률:  -0.15618849 mse:  0.0012697336589248436\n",
            "2/2 [==============================] - 1s 10ms/step\n"
          ]
        },
        {
          "output_type": "stream",
          "name": "stderr",
          "text": [
            "<ipython-input-76-79eaa660750f>:71: FutureWarning: The frame.append method is deprecated and will be removed from pandas in a future version. Use pandas.concat instead.\n",
            "  results_df = results_df.append({'종목코드': code, '수익률': final_return[0], '샤프지수':sharp_index}, ignore_index=True)\n",
            "\r  2%|▏         | 33/2000 [09:38<9:24:02, 17.21s/it]"
          ]
        },
        {
          "output_type": "stream",
          "name": "stdout",
          "text": [
            "code:  A059120 수익률:  -0.005945894 mse:  0.0020954350617661587\n",
            "2/2 [==============================] - 1s 10ms/step\n"
          ]
        },
        {
          "output_type": "stream",
          "name": "stderr",
          "text": [
            "<ipython-input-76-79eaa660750f>:71: FutureWarning: The frame.append method is deprecated and will be removed from pandas in a future version. Use pandas.concat instead.\n",
            "  results_df = results_df.append({'종목코드': code, '수익률': final_return[0], '샤프지수':sharp_index}, ignore_index=True)\n",
            "\r  2%|▏         | 34/2000 [09:53<8:59:02, 16.45s/it]"
          ]
        },
        {
          "output_type": "stream",
          "name": "stdout",
          "text": [
            "code:  A017550 수익률:  0.2756791 mse:  0.0005572513771809015\n",
            "2/2 [==============================] - 1s 11ms/step\n"
          ]
        },
        {
          "output_type": "stream",
          "name": "stderr",
          "text": [
            "<ipython-input-76-79eaa660750f>:71: FutureWarning: The frame.append method is deprecated and will be removed from pandas in a future version. Use pandas.concat instead.\n",
            "  results_df = results_df.append({'종목코드': code, '수익률': final_return[0], '샤프지수':sharp_index}, ignore_index=True)\n",
            "\r  2%|▏         | 35/2000 [10:08<8:39:29, 15.86s/it]"
          ]
        },
        {
          "output_type": "stream",
          "name": "stdout",
          "text": [
            "code:  A033500 수익률:  1.077333 mse:  0.004545510125091071\n",
            "2/2 [==============================] - 1s 14ms/step\n"
          ]
        },
        {
          "output_type": "stream",
          "name": "stderr",
          "text": [
            "<ipython-input-76-79eaa660750f>:71: FutureWarning: The frame.append method is deprecated and will be removed from pandas in a future version. Use pandas.concat instead.\n",
            "  results_df = results_df.append({'종목코드': code, '수익률': final_return[0], '샤프지수':sharp_index}, ignore_index=True)\n",
            "\r  2%|▏         | 36/2000 [10:22<8:28:39, 15.54s/it]"
          ]
        },
        {
          "output_type": "stream",
          "name": "stdout",
          "text": [
            "code:  A052330 수익률:  -0.44503823 mse:  0.004644691067224707\n",
            "2/2 [==============================] - 1s 13ms/step\n"
          ]
        },
        {
          "output_type": "stream",
          "name": "stderr",
          "text": [
            "<ipython-input-76-79eaa660750f>:71: FutureWarning: The frame.append method is deprecated and will be removed from pandas in a future version. Use pandas.concat instead.\n",
            "  results_df = results_df.append({'종목코드': code, '수익률': final_return[0], '샤프지수':sharp_index}, ignore_index=True)\n",
            "\r  2%|▏         | 37/2000 [10:47<10:00:52, 18.37s/it]"
          ]
        },
        {
          "output_type": "stream",
          "name": "stdout",
          "text": [
            "code:  A041960 수익률:  10.547078 mse:  0.0018060773256805445\n",
            "2/2 [==============================] - 1s 9ms/step\n"
          ]
        },
        {
          "output_type": "stream",
          "name": "stderr",
          "text": [
            "<ipython-input-76-79eaa660750f>:71: FutureWarning: The frame.append method is deprecated and will be removed from pandas in a future version. Use pandas.concat instead.\n",
            "  results_df = results_df.append({'종목코드': code, '수익률': final_return[0], '샤프지수':sharp_index}, ignore_index=True)\n",
            "\r  2%|▏         | 38/2000 [11:13<11:12:24, 20.56s/it]"
          ]
        },
        {
          "output_type": "stream",
          "name": "stdout",
          "text": [
            "code:  A017000 수익률:  -0.16979448 mse:  6.352085095831778e-05\n",
            "2/2 [==============================] - 1s 9ms/step\n"
          ]
        },
        {
          "output_type": "stream",
          "name": "stderr",
          "text": [
            "<ipython-input-76-79eaa660750f>:71: FutureWarning: The frame.append method is deprecated and will be removed from pandas in a future version. Use pandas.concat instead.\n",
            "  results_df = results_df.append({'종목코드': code, '수익률': final_return[0], '샤프지수':sharp_index}, ignore_index=True)\n",
            "\r  2%|▏         | 39/2000 [11:27<10:10:21, 18.67s/it]"
          ]
        },
        {
          "output_type": "stream",
          "name": "stdout",
          "text": [
            "code:  A069260 수익률:  2.3818521 mse:  0.0028545896408387005\n"
          ]
        },
        {
          "output_type": "stream",
          "name": "stderr",
          "text": [
            "\r  2%|▏         | 39/2000 [11:41<9:47:34, 17.98s/it] \n"
          ]
        },
        {
          "output_type": "error",
          "ename": "KeyboardInterrupt",
          "evalue": "ignored",
          "traceback": [
            "\u001b[0;31m---------------------------------------------------------------------------\u001b[0m",
            "\u001b[0;31mKeyboardInterrupt\u001b[0m                         Traceback (most recent call last)",
            "\u001b[0;32m<ipython-input-76-79eaa660750f>\u001b[0m in \u001b[0;36m<cell line: 9>\u001b[0;34m()\u001b[0m\n\u001b[1;32m     58\u001b[0m \u001b[0;34m\u001b[0m\u001b[0m\n\u001b[1;32m     59\u001b[0m     \u001b[0;31m# LSTM 생성\u001b[0m\u001b[0;34m\u001b[0m\u001b[0;34m\u001b[0m\u001b[0m\n\u001b[0;32m---> 60\u001b[0;31m     \u001b[0mmodel\u001b[0m\u001b[0;34m.\u001b[0m\u001b[0mfit\u001b[0m\u001b[0;34m(\u001b[0m\u001b[0mX_train\u001b[0m\u001b[0;34m,\u001b[0m \u001b[0my_train\u001b[0m\u001b[0;34m,\u001b[0m \u001b[0mepochs\u001b[0m\u001b[0;34m=\u001b[0m\u001b[0;36m30\u001b[0m\u001b[0;34m,\u001b[0m \u001b[0mbatch_size\u001b[0m\u001b[0;34m=\u001b[0m\u001b[0;36m32\u001b[0m\u001b[0;34m,\u001b[0m \u001b[0mverbose\u001b[0m\u001b[0;34m=\u001b[0m\u001b[0;36m0\u001b[0m\u001b[0;34m,\u001b[0m \u001b[0mvalidation_data\u001b[0m \u001b[0;34m=\u001b[0m \u001b[0;34m(\u001b[0m\u001b[0mX_test\u001b[0m\u001b[0;34m,\u001b[0m \u001b[0my_test\u001b[0m\u001b[0;34m)\u001b[0m\u001b[0;34m)\u001b[0m\u001b[0;34m\u001b[0m\u001b[0;34m\u001b[0m\u001b[0m\n\u001b[0m\u001b[1;32m     61\u001b[0m \u001b[0;34m\u001b[0m\u001b[0m\n\u001b[1;32m     62\u001b[0m     \u001b[0;31m# 예측\u001b[0m\u001b[0;34m\u001b[0m\u001b[0;34m\u001b[0m\u001b[0m\n",
            "\u001b[0;32m/usr/local/lib/python3.10/dist-packages/keras/utils/traceback_utils.py\u001b[0m in \u001b[0;36merror_handler\u001b[0;34m(*args, **kwargs)\u001b[0m\n\u001b[1;32m     63\u001b[0m         \u001b[0mfiltered_tb\u001b[0m \u001b[0;34m=\u001b[0m \u001b[0;32mNone\u001b[0m\u001b[0;34m\u001b[0m\u001b[0;34m\u001b[0m\u001b[0m\n\u001b[1;32m     64\u001b[0m         \u001b[0;32mtry\u001b[0m\u001b[0;34m:\u001b[0m\u001b[0;34m\u001b[0m\u001b[0;34m\u001b[0m\u001b[0m\n\u001b[0;32m---> 65\u001b[0;31m             \u001b[0;32mreturn\u001b[0m \u001b[0mfn\u001b[0m\u001b[0;34m(\u001b[0m\u001b[0;34m*\u001b[0m\u001b[0margs\u001b[0m\u001b[0;34m,\u001b[0m \u001b[0;34m**\u001b[0m\u001b[0mkwargs\u001b[0m\u001b[0;34m)\u001b[0m\u001b[0;34m\u001b[0m\u001b[0;34m\u001b[0m\u001b[0m\n\u001b[0m\u001b[1;32m     66\u001b[0m         \u001b[0;32mexcept\u001b[0m \u001b[0mException\u001b[0m \u001b[0;32mas\u001b[0m \u001b[0me\u001b[0m\u001b[0;34m:\u001b[0m\u001b[0;34m\u001b[0m\u001b[0;34m\u001b[0m\u001b[0m\n\u001b[1;32m     67\u001b[0m             \u001b[0mfiltered_tb\u001b[0m \u001b[0;34m=\u001b[0m \u001b[0m_process_traceback_frames\u001b[0m\u001b[0;34m(\u001b[0m\u001b[0me\u001b[0m\u001b[0;34m.\u001b[0m\u001b[0m__traceback__\u001b[0m\u001b[0;34m)\u001b[0m\u001b[0;34m\u001b[0m\u001b[0;34m\u001b[0m\u001b[0m\n",
            "\u001b[0;32m/usr/local/lib/python3.10/dist-packages/keras/engine/training.py\u001b[0m in \u001b[0;36mfit\u001b[0;34m(self, x, y, batch_size, epochs, verbose, callbacks, validation_split, validation_data, shuffle, class_weight, sample_weight, initial_epoch, steps_per_epoch, validation_steps, validation_batch_size, validation_freq, max_queue_size, workers, use_multiprocessing)\u001b[0m\n\u001b[1;32m   1683\u001b[0m                         ):\n\u001b[1;32m   1684\u001b[0m                             \u001b[0mcallbacks\u001b[0m\u001b[0;34m.\u001b[0m\u001b[0mon_train_batch_begin\u001b[0m\u001b[0;34m(\u001b[0m\u001b[0mstep\u001b[0m\u001b[0;34m)\u001b[0m\u001b[0;34m\u001b[0m\u001b[0;34m\u001b[0m\u001b[0m\n\u001b[0;32m-> 1685\u001b[0;31m                             \u001b[0mtmp_logs\u001b[0m \u001b[0;34m=\u001b[0m \u001b[0mself\u001b[0m\u001b[0;34m.\u001b[0m\u001b[0mtrain_function\u001b[0m\u001b[0;34m(\u001b[0m\u001b[0miterator\u001b[0m\u001b[0;34m)\u001b[0m\u001b[0;34m\u001b[0m\u001b[0;34m\u001b[0m\u001b[0m\n\u001b[0m\u001b[1;32m   1686\u001b[0m                             \u001b[0;32mif\u001b[0m \u001b[0mdata_handler\u001b[0m\u001b[0;34m.\u001b[0m\u001b[0mshould_sync\u001b[0m\u001b[0;34m:\u001b[0m\u001b[0;34m\u001b[0m\u001b[0;34m\u001b[0m\u001b[0m\n\u001b[1;32m   1687\u001b[0m                                 \u001b[0mcontext\u001b[0m\u001b[0;34m.\u001b[0m\u001b[0masync_wait\u001b[0m\u001b[0;34m(\u001b[0m\u001b[0;34m)\u001b[0m\u001b[0;34m\u001b[0m\u001b[0;34m\u001b[0m\u001b[0m\n",
            "\u001b[0;32m/usr/local/lib/python3.10/dist-packages/tensorflow/python/util/traceback_utils.py\u001b[0m in \u001b[0;36merror_handler\u001b[0;34m(*args, **kwargs)\u001b[0m\n\u001b[1;32m    148\u001b[0m     \u001b[0mfiltered_tb\u001b[0m \u001b[0;34m=\u001b[0m \u001b[0;32mNone\u001b[0m\u001b[0;34m\u001b[0m\u001b[0;34m\u001b[0m\u001b[0m\n\u001b[1;32m    149\u001b[0m     \u001b[0;32mtry\u001b[0m\u001b[0;34m:\u001b[0m\u001b[0;34m\u001b[0m\u001b[0;34m\u001b[0m\u001b[0m\n\u001b[0;32m--> 150\u001b[0;31m       \u001b[0;32mreturn\u001b[0m \u001b[0mfn\u001b[0m\u001b[0;34m(\u001b[0m\u001b[0;34m*\u001b[0m\u001b[0margs\u001b[0m\u001b[0;34m,\u001b[0m \u001b[0;34m**\u001b[0m\u001b[0mkwargs\u001b[0m\u001b[0;34m)\u001b[0m\u001b[0;34m\u001b[0m\u001b[0;34m\u001b[0m\u001b[0m\n\u001b[0m\u001b[1;32m    151\u001b[0m     \u001b[0;32mexcept\u001b[0m \u001b[0mException\u001b[0m \u001b[0;32mas\u001b[0m \u001b[0me\u001b[0m\u001b[0;34m:\u001b[0m\u001b[0;34m\u001b[0m\u001b[0;34m\u001b[0m\u001b[0m\n\u001b[1;32m    152\u001b[0m       \u001b[0mfiltered_tb\u001b[0m \u001b[0;34m=\u001b[0m \u001b[0m_process_traceback_frames\u001b[0m\u001b[0;34m(\u001b[0m\u001b[0me\u001b[0m\u001b[0;34m.\u001b[0m\u001b[0m__traceback__\u001b[0m\u001b[0;34m)\u001b[0m\u001b[0;34m\u001b[0m\u001b[0;34m\u001b[0m\u001b[0m\n",
            "\u001b[0;32m/usr/local/lib/python3.10/dist-packages/tensorflow/python/eager/polymorphic_function/polymorphic_function.py\u001b[0m in \u001b[0;36m__call__\u001b[0;34m(self, *args, **kwds)\u001b[0m\n\u001b[1;32m    892\u001b[0m \u001b[0;34m\u001b[0m\u001b[0m\n\u001b[1;32m    893\u001b[0m       \u001b[0;32mwith\u001b[0m \u001b[0mOptionalXlaContext\u001b[0m\u001b[0;34m(\u001b[0m\u001b[0mself\u001b[0m\u001b[0;34m.\u001b[0m\u001b[0m_jit_compile\u001b[0m\u001b[0;34m)\u001b[0m\u001b[0;34m:\u001b[0m\u001b[0;34m\u001b[0m\u001b[0;34m\u001b[0m\u001b[0m\n\u001b[0;32m--> 894\u001b[0;31m         \u001b[0mresult\u001b[0m \u001b[0;34m=\u001b[0m \u001b[0mself\u001b[0m\u001b[0;34m.\u001b[0m\u001b[0m_call\u001b[0m\u001b[0;34m(\u001b[0m\u001b[0;34m*\u001b[0m\u001b[0margs\u001b[0m\u001b[0;34m,\u001b[0m \u001b[0;34m**\u001b[0m\u001b[0mkwds\u001b[0m\u001b[0;34m)\u001b[0m\u001b[0;34m\u001b[0m\u001b[0;34m\u001b[0m\u001b[0m\n\u001b[0m\u001b[1;32m    895\u001b[0m \u001b[0;34m\u001b[0m\u001b[0m\n\u001b[1;32m    896\u001b[0m       \u001b[0mnew_tracing_count\u001b[0m \u001b[0;34m=\u001b[0m \u001b[0mself\u001b[0m\u001b[0;34m.\u001b[0m\u001b[0mexperimental_get_tracing_count\u001b[0m\u001b[0;34m(\u001b[0m\u001b[0;34m)\u001b[0m\u001b[0;34m\u001b[0m\u001b[0;34m\u001b[0m\u001b[0m\n",
            "\u001b[0;32m/usr/local/lib/python3.10/dist-packages/tensorflow/python/eager/polymorphic_function/polymorphic_function.py\u001b[0m in \u001b[0;36m_call\u001b[0;34m(self, *args, **kwds)\u001b[0m\n\u001b[1;32m    924\u001b[0m       \u001b[0;31m# In this case we have created variables on the first call, so we run the\u001b[0m\u001b[0;34m\u001b[0m\u001b[0;34m\u001b[0m\u001b[0m\n\u001b[1;32m    925\u001b[0m       \u001b[0;31m# defunned version which is guaranteed to never create variables.\u001b[0m\u001b[0;34m\u001b[0m\u001b[0;34m\u001b[0m\u001b[0m\n\u001b[0;32m--> 926\u001b[0;31m       \u001b[0;32mreturn\u001b[0m \u001b[0mself\u001b[0m\u001b[0;34m.\u001b[0m\u001b[0m_no_variable_creation_fn\u001b[0m\u001b[0;34m(\u001b[0m\u001b[0;34m*\u001b[0m\u001b[0margs\u001b[0m\u001b[0;34m,\u001b[0m \u001b[0;34m**\u001b[0m\u001b[0mkwds\u001b[0m\u001b[0;34m)\u001b[0m  \u001b[0;31m# pylint: disable=not-callable\u001b[0m\u001b[0;34m\u001b[0m\u001b[0;34m\u001b[0m\u001b[0m\n\u001b[0m\u001b[1;32m    927\u001b[0m     \u001b[0;32melif\u001b[0m \u001b[0mself\u001b[0m\u001b[0;34m.\u001b[0m\u001b[0m_variable_creation_fn\u001b[0m \u001b[0;32mis\u001b[0m \u001b[0;32mnot\u001b[0m \u001b[0;32mNone\u001b[0m\u001b[0;34m:\u001b[0m\u001b[0;34m\u001b[0m\u001b[0;34m\u001b[0m\u001b[0m\n\u001b[1;32m    928\u001b[0m       \u001b[0;31m# Release the lock early so that multiple threads can perform the call\u001b[0m\u001b[0;34m\u001b[0m\u001b[0;34m\u001b[0m\u001b[0m\n",
            "\u001b[0;32m/usr/local/lib/python3.10/dist-packages/tensorflow/python/eager/polymorphic_function/tracing_compiler.py\u001b[0m in \u001b[0;36m__call__\u001b[0;34m(self, *args, **kwargs)\u001b[0m\n\u001b[1;32m    141\u001b[0m       (concrete_function,\n\u001b[1;32m    142\u001b[0m        filtered_flat_args) = self._maybe_define_function(args, kwargs)\n\u001b[0;32m--> 143\u001b[0;31m     return concrete_function._call_flat(\n\u001b[0m\u001b[1;32m    144\u001b[0m         filtered_flat_args, captured_inputs=concrete_function.captured_inputs)  # pylint: disable=protected-access\n\u001b[1;32m    145\u001b[0m \u001b[0;34m\u001b[0m\u001b[0m\n",
            "\u001b[0;32m/usr/local/lib/python3.10/dist-packages/tensorflow/python/eager/polymorphic_function/monomorphic_function.py\u001b[0m in \u001b[0;36m_call_flat\u001b[0;34m(self, args, captured_inputs, cancellation_manager)\u001b[0m\n\u001b[1;32m   1755\u001b[0m         and executing_eagerly):\n\u001b[1;32m   1756\u001b[0m       \u001b[0;31m# No tape is watching; skip to running the function.\u001b[0m\u001b[0;34m\u001b[0m\u001b[0;34m\u001b[0m\u001b[0m\n\u001b[0;32m-> 1757\u001b[0;31m       return self._build_call_outputs(self._inference_function.call(\n\u001b[0m\u001b[1;32m   1758\u001b[0m           ctx, args, cancellation_manager=cancellation_manager))\n\u001b[1;32m   1759\u001b[0m     forward_backward = self._select_forward_and_backward_functions(\n",
            "\u001b[0;32m/usr/local/lib/python3.10/dist-packages/tensorflow/python/eager/polymorphic_function/monomorphic_function.py\u001b[0m in \u001b[0;36mcall\u001b[0;34m(self, ctx, args, cancellation_manager)\u001b[0m\n\u001b[1;32m    379\u001b[0m       \u001b[0;32mwith\u001b[0m \u001b[0m_InterpolateFunctionError\u001b[0m\u001b[0;34m(\u001b[0m\u001b[0mself\u001b[0m\u001b[0;34m)\u001b[0m\u001b[0;34m:\u001b[0m\u001b[0;34m\u001b[0m\u001b[0;34m\u001b[0m\u001b[0m\n\u001b[1;32m    380\u001b[0m         \u001b[0;32mif\u001b[0m \u001b[0mcancellation_manager\u001b[0m \u001b[0;32mis\u001b[0m \u001b[0;32mNone\u001b[0m\u001b[0;34m:\u001b[0m\u001b[0;34m\u001b[0m\u001b[0;34m\u001b[0m\u001b[0m\n\u001b[0;32m--> 381\u001b[0;31m           outputs = execute.execute(\n\u001b[0m\u001b[1;32m    382\u001b[0m               \u001b[0mstr\u001b[0m\u001b[0;34m(\u001b[0m\u001b[0mself\u001b[0m\u001b[0;34m.\u001b[0m\u001b[0msignature\u001b[0m\u001b[0;34m.\u001b[0m\u001b[0mname\u001b[0m\u001b[0;34m)\u001b[0m\u001b[0;34m,\u001b[0m\u001b[0;34m\u001b[0m\u001b[0;34m\u001b[0m\u001b[0m\n\u001b[1;32m    383\u001b[0m               \u001b[0mnum_outputs\u001b[0m\u001b[0;34m=\u001b[0m\u001b[0mself\u001b[0m\u001b[0;34m.\u001b[0m\u001b[0m_num_outputs\u001b[0m\u001b[0;34m,\u001b[0m\u001b[0;34m\u001b[0m\u001b[0;34m\u001b[0m\u001b[0m\n",
            "\u001b[0;32m/usr/local/lib/python3.10/dist-packages/tensorflow/python/eager/execute.py\u001b[0m in \u001b[0;36mquick_execute\u001b[0;34m(op_name, num_outputs, inputs, attrs, ctx, name)\u001b[0m\n\u001b[1;32m     50\u001b[0m   \u001b[0;32mtry\u001b[0m\u001b[0;34m:\u001b[0m\u001b[0;34m\u001b[0m\u001b[0;34m\u001b[0m\u001b[0m\n\u001b[1;32m     51\u001b[0m     \u001b[0mctx\u001b[0m\u001b[0;34m.\u001b[0m\u001b[0mensure_initialized\u001b[0m\u001b[0;34m(\u001b[0m\u001b[0;34m)\u001b[0m\u001b[0;34m\u001b[0m\u001b[0;34m\u001b[0m\u001b[0m\n\u001b[0;32m---> 52\u001b[0;31m     tensors = pywrap_tfe.TFE_Py_Execute(ctx._handle, device_name, op_name,\n\u001b[0m\u001b[1;32m     53\u001b[0m                                         inputs, attrs, num_outputs)\n\u001b[1;32m     54\u001b[0m   \u001b[0;32mexcept\u001b[0m \u001b[0mcore\u001b[0m\u001b[0;34m.\u001b[0m\u001b[0m_NotOkStatusException\u001b[0m \u001b[0;32mas\u001b[0m \u001b[0me\u001b[0m\u001b[0;34m:\u001b[0m\u001b[0;34m\u001b[0m\u001b[0;34m\u001b[0m\u001b[0m\n",
            "\u001b[0;31mKeyboardInterrupt\u001b[0m: "
          ]
        }
      ]
    },
    {
      "cell_type": "code",
      "source": [
        "results_df[\"가중평균\"] = (results_df[\"수익률\"]*0.5 + results_df[\"샤프지수\"]*0.5) / 2\n",
        "results_df['순위'] = results_df['가중평균'].rank(method='first', ascending=False).astype('int') # 각 순위를 중복없이 생성\n",
        "results_df"
      ],
      "metadata": {
        "colab": {
          "base_uri": "https://localhost:8080/",
          "height": 424
        },
        "id": "-7Cp8qU5vEgO",
        "outputId": "913a7940-75b0-4f99-f2dd-eeb10329c33d"
      },
      "execution_count": null,
      "outputs": [
        {
          "output_type": "execute_result",
          "data": {
            "text/plain": [
              "         종목코드       수익률      샤프지수      가중평균    순위\n",
              "0     A050110 -0.573573 -0.022867 -0.149110  1182\n",
              "1     A066310 -1.126748 -0.034490 -0.290310  1441\n",
              "2     A289220  1.428341 -0.009463  0.354720   482\n",
              "3     A016090  0.839960 -0.047944  0.198004   631\n",
              "4     A048550 -0.681131 -0.034069 -0.178800  1246\n",
              "...       ...       ...       ...       ...   ...\n",
              "1995  A015860 -0.915248  0.045146 -0.217525  1331\n",
              "1996  A065450 -0.555270 -0.039345 -0.148654  1179\n",
              "1997  A008060 -1.018375 -0.126971 -0.286337  1434\n",
              "1998  A093240  1.610132  0.090233  0.425091   427\n",
              "1999  A101930 -0.861649  0.034523 -0.206782  1313\n",
              "\n",
              "[2000 rows x 5 columns]"
            ],
            "text/html": [
              "\n",
              "\n",
              "  <div id=\"df-4e079fa4-ae62-4a38-a00c-915ca3b7054d\">\n",
              "    <div class=\"colab-df-container\">\n",
              "      <div>\n",
              "<style scoped>\n",
              "    .dataframe tbody tr th:only-of-type {\n",
              "        vertical-align: middle;\n",
              "    }\n",
              "\n",
              "    .dataframe tbody tr th {\n",
              "        vertical-align: top;\n",
              "    }\n",
              "\n",
              "    .dataframe thead th {\n",
              "        text-align: right;\n",
              "    }\n",
              "</style>\n",
              "<table border=\"1\" class=\"dataframe\">\n",
              "  <thead>\n",
              "    <tr style=\"text-align: right;\">\n",
              "      <th></th>\n",
              "      <th>종목코드</th>\n",
              "      <th>수익률</th>\n",
              "      <th>샤프지수</th>\n",
              "      <th>가중평균</th>\n",
              "      <th>순위</th>\n",
              "    </tr>\n",
              "  </thead>\n",
              "  <tbody>\n",
              "    <tr>\n",
              "      <th>0</th>\n",
              "      <td>A050110</td>\n",
              "      <td>-0.573573</td>\n",
              "      <td>-0.022867</td>\n",
              "      <td>-0.149110</td>\n",
              "      <td>1182</td>\n",
              "    </tr>\n",
              "    <tr>\n",
              "      <th>1</th>\n",
              "      <td>A066310</td>\n",
              "      <td>-1.126748</td>\n",
              "      <td>-0.034490</td>\n",
              "      <td>-0.290310</td>\n",
              "      <td>1441</td>\n",
              "    </tr>\n",
              "    <tr>\n",
              "      <th>2</th>\n",
              "      <td>A289220</td>\n",
              "      <td>1.428341</td>\n",
              "      <td>-0.009463</td>\n",
              "      <td>0.354720</td>\n",
              "      <td>482</td>\n",
              "    </tr>\n",
              "    <tr>\n",
              "      <th>3</th>\n",
              "      <td>A016090</td>\n",
              "      <td>0.839960</td>\n",
              "      <td>-0.047944</td>\n",
              "      <td>0.198004</td>\n",
              "      <td>631</td>\n",
              "    </tr>\n",
              "    <tr>\n",
              "      <th>4</th>\n",
              "      <td>A048550</td>\n",
              "      <td>-0.681131</td>\n",
              "      <td>-0.034069</td>\n",
              "      <td>-0.178800</td>\n",
              "      <td>1246</td>\n",
              "    </tr>\n",
              "    <tr>\n",
              "      <th>...</th>\n",
              "      <td>...</td>\n",
              "      <td>...</td>\n",
              "      <td>...</td>\n",
              "      <td>...</td>\n",
              "      <td>...</td>\n",
              "    </tr>\n",
              "    <tr>\n",
              "      <th>1995</th>\n",
              "      <td>A015860</td>\n",
              "      <td>-0.915248</td>\n",
              "      <td>0.045146</td>\n",
              "      <td>-0.217525</td>\n",
              "      <td>1331</td>\n",
              "    </tr>\n",
              "    <tr>\n",
              "      <th>1996</th>\n",
              "      <td>A065450</td>\n",
              "      <td>-0.555270</td>\n",
              "      <td>-0.039345</td>\n",
              "      <td>-0.148654</td>\n",
              "      <td>1179</td>\n",
              "    </tr>\n",
              "    <tr>\n",
              "      <th>1997</th>\n",
              "      <td>A008060</td>\n",
              "      <td>-1.018375</td>\n",
              "      <td>-0.126971</td>\n",
              "      <td>-0.286337</td>\n",
              "      <td>1434</td>\n",
              "    </tr>\n",
              "    <tr>\n",
              "      <th>1998</th>\n",
              "      <td>A093240</td>\n",
              "      <td>1.610132</td>\n",
              "      <td>0.090233</td>\n",
              "      <td>0.425091</td>\n",
              "      <td>427</td>\n",
              "    </tr>\n",
              "    <tr>\n",
              "      <th>1999</th>\n",
              "      <td>A101930</td>\n",
              "      <td>-0.861649</td>\n",
              "      <td>0.034523</td>\n",
              "      <td>-0.206782</td>\n",
              "      <td>1313</td>\n",
              "    </tr>\n",
              "  </tbody>\n",
              "</table>\n",
              "<p>2000 rows × 5 columns</p>\n",
              "</div>\n",
              "      <button class=\"colab-df-convert\" onclick=\"convertToInteractive('df-4e079fa4-ae62-4a38-a00c-915ca3b7054d')\"\n",
              "              title=\"Convert this dataframe to an interactive table.\"\n",
              "              style=\"display:none;\">\n",
              "\n",
              "  <svg xmlns=\"http://www.w3.org/2000/svg\" height=\"24px\"viewBox=\"0 0 24 24\"\n",
              "       width=\"24px\">\n",
              "    <path d=\"M0 0h24v24H0V0z\" fill=\"none\"/>\n",
              "    <path d=\"M18.56 5.44l.94 2.06.94-2.06 2.06-.94-2.06-.94-.94-2.06-.94 2.06-2.06.94zm-11 1L8.5 8.5l.94-2.06 2.06-.94-2.06-.94L8.5 2.5l-.94 2.06-2.06.94zm10 10l.94 2.06.94-2.06 2.06-.94-2.06-.94-.94-2.06-.94 2.06-2.06.94z\"/><path d=\"M17.41 7.96l-1.37-1.37c-.4-.4-.92-.59-1.43-.59-.52 0-1.04.2-1.43.59L10.3 9.45l-7.72 7.72c-.78.78-.78 2.05 0 2.83L4 21.41c.39.39.9.59 1.41.59.51 0 1.02-.2 1.41-.59l7.78-7.78 2.81-2.81c.8-.78.8-2.07 0-2.86zM5.41 20L4 18.59l7.72-7.72 1.47 1.35L5.41 20z\"/>\n",
              "  </svg>\n",
              "      </button>\n",
              "\n",
              "\n",
              "\n",
              "    <div id=\"df-590252cc-0b3c-4314-b5ea-90328de44592\">\n",
              "      <button class=\"colab-df-quickchart\" onclick=\"quickchart('df-590252cc-0b3c-4314-b5ea-90328de44592')\"\n",
              "              title=\"Suggest charts.\"\n",
              "              style=\"display:none;\">\n",
              "\n",
              "<svg xmlns=\"http://www.w3.org/2000/svg\" height=\"24px\"viewBox=\"0 0 24 24\"\n",
              "     width=\"24px\">\n",
              "    <g>\n",
              "        <path d=\"M19 3H5c-1.1 0-2 .9-2 2v14c0 1.1.9 2 2 2h14c1.1 0 2-.9 2-2V5c0-1.1-.9-2-2-2zM9 17H7v-7h2v7zm4 0h-2V7h2v10zm4 0h-2v-4h2v4z\"/>\n",
              "    </g>\n",
              "</svg>\n",
              "      </button>\n",
              "    </div>\n",
              "\n",
              "<style>\n",
              "  .colab-df-quickchart {\n",
              "    background-color: #E8F0FE;\n",
              "    border: none;\n",
              "    border-radius: 50%;\n",
              "    cursor: pointer;\n",
              "    display: none;\n",
              "    fill: #1967D2;\n",
              "    height: 32px;\n",
              "    padding: 0 0 0 0;\n",
              "    width: 32px;\n",
              "  }\n",
              "\n",
              "  .colab-df-quickchart:hover {\n",
              "    background-color: #E2EBFA;\n",
              "    box-shadow: 0px 1px 2px rgba(60, 64, 67, 0.3), 0px 1px 3px 1px rgba(60, 64, 67, 0.15);\n",
              "    fill: #174EA6;\n",
              "  }\n",
              "\n",
              "  [theme=dark] .colab-df-quickchart {\n",
              "    background-color: #3B4455;\n",
              "    fill: #D2E3FC;\n",
              "  }\n",
              "\n",
              "  [theme=dark] .colab-df-quickchart:hover {\n",
              "    background-color: #434B5C;\n",
              "    box-shadow: 0px 1px 3px 1px rgba(0, 0, 0, 0.15);\n",
              "    filter: drop-shadow(0px 1px 2px rgba(0, 0, 0, 0.3));\n",
              "    fill: #FFFFFF;\n",
              "  }\n",
              "</style>\n",
              "\n",
              "    <script>\n",
              "      async function quickchart(key) {\n",
              "        const containerElement = document.querySelector('#' + key);\n",
              "        const charts = await google.colab.kernel.invokeFunction(\n",
              "            'suggestCharts', [key], {});\n",
              "      }\n",
              "    </script>\n",
              "\n",
              "      <script>\n",
              "\n",
              "function displayQuickchartButton(domScope) {\n",
              "  let quickchartButtonEl =\n",
              "    domScope.querySelector('#df-590252cc-0b3c-4314-b5ea-90328de44592 button.colab-df-quickchart');\n",
              "  quickchartButtonEl.style.display =\n",
              "    google.colab.kernel.accessAllowed ? 'block' : 'none';\n",
              "}\n",
              "\n",
              "        displayQuickchartButton(document);\n",
              "      </script>\n",
              "      <style>\n",
              "    .colab-df-container {\n",
              "      display:flex;\n",
              "      flex-wrap:wrap;\n",
              "      gap: 12px;\n",
              "    }\n",
              "\n",
              "    .colab-df-convert {\n",
              "      background-color: #E8F0FE;\n",
              "      border: none;\n",
              "      border-radius: 50%;\n",
              "      cursor: pointer;\n",
              "      display: none;\n",
              "      fill: #1967D2;\n",
              "      height: 32px;\n",
              "      padding: 0 0 0 0;\n",
              "      width: 32px;\n",
              "    }\n",
              "\n",
              "    .colab-df-convert:hover {\n",
              "      background-color: #E2EBFA;\n",
              "      box-shadow: 0px 1px 2px rgba(60, 64, 67, 0.3), 0px 1px 3px 1px rgba(60, 64, 67, 0.15);\n",
              "      fill: #174EA6;\n",
              "    }\n",
              "\n",
              "    [theme=dark] .colab-df-convert {\n",
              "      background-color: #3B4455;\n",
              "      fill: #D2E3FC;\n",
              "    }\n",
              "\n",
              "    [theme=dark] .colab-df-convert:hover {\n",
              "      background-color: #434B5C;\n",
              "      box-shadow: 0px 1px 3px 1px rgba(0, 0, 0, 0.15);\n",
              "      filter: drop-shadow(0px 1px 2px rgba(0, 0, 0, 0.3));\n",
              "      fill: #FFFFFF;\n",
              "    }\n",
              "  </style>\n",
              "\n",
              "      <script>\n",
              "        const buttonEl =\n",
              "          document.querySelector('#df-4e079fa4-ae62-4a38-a00c-915ca3b7054d button.colab-df-convert');\n",
              "        buttonEl.style.display =\n",
              "          google.colab.kernel.accessAllowed ? 'block' : 'none';\n",
              "\n",
              "        async function convertToInteractive(key) {\n",
              "          const element = document.querySelector('#df-4e079fa4-ae62-4a38-a00c-915ca3b7054d');\n",
              "          const dataTable =\n",
              "            await google.colab.kernel.invokeFunction('convertToInteractive',\n",
              "                                                     [key], {});\n",
              "          if (!dataTable) return;\n",
              "\n",
              "          const docLinkHtml = 'Like what you see? Visit the ' +\n",
              "            '<a target=\"_blank\" href=https://colab.research.google.com/notebooks/data_table.ipynb>data table notebook</a>'\n",
              "            + ' to learn more about interactive tables.';\n",
              "          element.innerHTML = '';\n",
              "          dataTable['output_type'] = 'display_data';\n",
              "          await google.colab.output.renderOutput(dataTable, element);\n",
              "          const docLink = document.createElement('div');\n",
              "          docLink.innerHTML = docLinkHtml;\n",
              "          element.appendChild(docLink);\n",
              "        }\n",
              "      </script>\n",
              "    </div>\n",
              "  </div>\n"
            ]
          },
          "metadata": {},
          "execution_count": 19
        }
      ]
    },
    {
      "cell_type": "code",
      "source": [
        "results_df[results_df[\"수익률\"] >= 100]"
      ],
      "metadata": {
        "colab": {
          "base_uri": "https://localhost:8080/",
          "height": 457
        },
        "id": "vYAzNn6s0XSW",
        "outputId": "342071e6-50b5-44f7-a1af-5176d7f9f29d"
      },
      "execution_count": null,
      "outputs": [
        {
          "output_type": "execute_result",
          "data": {
            "text/plain": [
              "         종목코드            수익률      샤프지수\n",
              "116   A082920     148.928589  0.062971\n",
              "240   A024850     278.964386  0.097245\n",
              "574   A005710     843.795654 -0.088963\n",
              "694   A025770    1112.293579 -0.017729\n",
              "773   A033340     750.905579  0.073939\n",
              "830   A363250     176.422318  0.065011\n",
              "1030  A024830     610.466309  0.063442\n",
              "1175  A337930  459912.968750  0.066097\n",
              "1182  A099520     207.657715  0.074550\n",
              "1377  A175250     413.378723  0.069721\n",
              "1715  A200710     137.139481 -0.015436\n",
              "1730  A003620    4807.072754  0.084529\n",
              "1818  A140860     307.120453  0.102195"
            ],
            "text/html": [
              "\n",
              "\n",
              "  <div id=\"df-eb3dd131-38e4-4264-bd48-108f1bb8323c\">\n",
              "    <div class=\"colab-df-container\">\n",
              "      <div>\n",
              "<style scoped>\n",
              "    .dataframe tbody tr th:only-of-type {\n",
              "        vertical-align: middle;\n",
              "    }\n",
              "\n",
              "    .dataframe tbody tr th {\n",
              "        vertical-align: top;\n",
              "    }\n",
              "\n",
              "    .dataframe thead th {\n",
              "        text-align: right;\n",
              "    }\n",
              "</style>\n",
              "<table border=\"1\" class=\"dataframe\">\n",
              "  <thead>\n",
              "    <tr style=\"text-align: right;\">\n",
              "      <th></th>\n",
              "      <th>종목코드</th>\n",
              "      <th>수익률</th>\n",
              "      <th>샤프지수</th>\n",
              "    </tr>\n",
              "  </thead>\n",
              "  <tbody>\n",
              "    <tr>\n",
              "      <th>116</th>\n",
              "      <td>A082920</td>\n",
              "      <td>148.928589</td>\n",
              "      <td>0.062971</td>\n",
              "    </tr>\n",
              "    <tr>\n",
              "      <th>240</th>\n",
              "      <td>A024850</td>\n",
              "      <td>278.964386</td>\n",
              "      <td>0.097245</td>\n",
              "    </tr>\n",
              "    <tr>\n",
              "      <th>574</th>\n",
              "      <td>A005710</td>\n",
              "      <td>843.795654</td>\n",
              "      <td>-0.088963</td>\n",
              "    </tr>\n",
              "    <tr>\n",
              "      <th>694</th>\n",
              "      <td>A025770</td>\n",
              "      <td>1112.293579</td>\n",
              "      <td>-0.017729</td>\n",
              "    </tr>\n",
              "    <tr>\n",
              "      <th>773</th>\n",
              "      <td>A033340</td>\n",
              "      <td>750.905579</td>\n",
              "      <td>0.073939</td>\n",
              "    </tr>\n",
              "    <tr>\n",
              "      <th>830</th>\n",
              "      <td>A363250</td>\n",
              "      <td>176.422318</td>\n",
              "      <td>0.065011</td>\n",
              "    </tr>\n",
              "    <tr>\n",
              "      <th>1030</th>\n",
              "      <td>A024830</td>\n",
              "      <td>610.466309</td>\n",
              "      <td>0.063442</td>\n",
              "    </tr>\n",
              "    <tr>\n",
              "      <th>1175</th>\n",
              "      <td>A337930</td>\n",
              "      <td>459912.968750</td>\n",
              "      <td>0.066097</td>\n",
              "    </tr>\n",
              "    <tr>\n",
              "      <th>1182</th>\n",
              "      <td>A099520</td>\n",
              "      <td>207.657715</td>\n",
              "      <td>0.074550</td>\n",
              "    </tr>\n",
              "    <tr>\n",
              "      <th>1377</th>\n",
              "      <td>A175250</td>\n",
              "      <td>413.378723</td>\n",
              "      <td>0.069721</td>\n",
              "    </tr>\n",
              "    <tr>\n",
              "      <th>1715</th>\n",
              "      <td>A200710</td>\n",
              "      <td>137.139481</td>\n",
              "      <td>-0.015436</td>\n",
              "    </tr>\n",
              "    <tr>\n",
              "      <th>1730</th>\n",
              "      <td>A003620</td>\n",
              "      <td>4807.072754</td>\n",
              "      <td>0.084529</td>\n",
              "    </tr>\n",
              "    <tr>\n",
              "      <th>1818</th>\n",
              "      <td>A140860</td>\n",
              "      <td>307.120453</td>\n",
              "      <td>0.102195</td>\n",
              "    </tr>\n",
              "  </tbody>\n",
              "</table>\n",
              "</div>\n",
              "      <button class=\"colab-df-convert\" onclick=\"convertToInteractive('df-eb3dd131-38e4-4264-bd48-108f1bb8323c')\"\n",
              "              title=\"Convert this dataframe to an interactive table.\"\n",
              "              style=\"display:none;\">\n",
              "\n",
              "  <svg xmlns=\"http://www.w3.org/2000/svg\" height=\"24px\"viewBox=\"0 0 24 24\"\n",
              "       width=\"24px\">\n",
              "    <path d=\"M0 0h24v24H0V0z\" fill=\"none\"/>\n",
              "    <path d=\"M18.56 5.44l.94 2.06.94-2.06 2.06-.94-2.06-.94-.94-2.06-.94 2.06-2.06.94zm-11 1L8.5 8.5l.94-2.06 2.06-.94-2.06-.94L8.5 2.5l-.94 2.06-2.06.94zm10 10l.94 2.06.94-2.06 2.06-.94-2.06-.94-.94-2.06-.94 2.06-2.06.94z\"/><path d=\"M17.41 7.96l-1.37-1.37c-.4-.4-.92-.59-1.43-.59-.52 0-1.04.2-1.43.59L10.3 9.45l-7.72 7.72c-.78.78-.78 2.05 0 2.83L4 21.41c.39.39.9.59 1.41.59.51 0 1.02-.2 1.41-.59l7.78-7.78 2.81-2.81c.8-.78.8-2.07 0-2.86zM5.41 20L4 18.59l7.72-7.72 1.47 1.35L5.41 20z\"/>\n",
              "  </svg>\n",
              "      </button>\n",
              "\n",
              "\n",
              "\n",
              "    <div id=\"df-7f77e175-87ed-4f4f-b7d8-2f8f66e9626e\">\n",
              "      <button class=\"colab-df-quickchart\" onclick=\"quickchart('df-7f77e175-87ed-4f4f-b7d8-2f8f66e9626e')\"\n",
              "              title=\"Suggest charts.\"\n",
              "              style=\"display:none;\">\n",
              "\n",
              "<svg xmlns=\"http://www.w3.org/2000/svg\" height=\"24px\"viewBox=\"0 0 24 24\"\n",
              "     width=\"24px\">\n",
              "    <g>\n",
              "        <path d=\"M19 3H5c-1.1 0-2 .9-2 2v14c0 1.1.9 2 2 2h14c1.1 0 2-.9 2-2V5c0-1.1-.9-2-2-2zM9 17H7v-7h2v7zm4 0h-2V7h2v10zm4 0h-2v-4h2v4z\"/>\n",
              "    </g>\n",
              "</svg>\n",
              "      </button>\n",
              "    </div>\n",
              "\n",
              "<style>\n",
              "  .colab-df-quickchart {\n",
              "    background-color: #E8F0FE;\n",
              "    border: none;\n",
              "    border-radius: 50%;\n",
              "    cursor: pointer;\n",
              "    display: none;\n",
              "    fill: #1967D2;\n",
              "    height: 32px;\n",
              "    padding: 0 0 0 0;\n",
              "    width: 32px;\n",
              "  }\n",
              "\n",
              "  .colab-df-quickchart:hover {\n",
              "    background-color: #E2EBFA;\n",
              "    box-shadow: 0px 1px 2px rgba(60, 64, 67, 0.3), 0px 1px 3px 1px rgba(60, 64, 67, 0.15);\n",
              "    fill: #174EA6;\n",
              "  }\n",
              "\n",
              "  [theme=dark] .colab-df-quickchart {\n",
              "    background-color: #3B4455;\n",
              "    fill: #D2E3FC;\n",
              "  }\n",
              "\n",
              "  [theme=dark] .colab-df-quickchart:hover {\n",
              "    background-color: #434B5C;\n",
              "    box-shadow: 0px 1px 3px 1px rgba(0, 0, 0, 0.15);\n",
              "    filter: drop-shadow(0px 1px 2px rgba(0, 0, 0, 0.3));\n",
              "    fill: #FFFFFF;\n",
              "  }\n",
              "</style>\n",
              "\n",
              "    <script>\n",
              "      async function quickchart(key) {\n",
              "        const containerElement = document.querySelector('#' + key);\n",
              "        const charts = await google.colab.kernel.invokeFunction(\n",
              "            'suggestCharts', [key], {});\n",
              "      }\n",
              "    </script>\n",
              "\n",
              "      <script>\n",
              "\n",
              "function displayQuickchartButton(domScope) {\n",
              "  let quickchartButtonEl =\n",
              "    domScope.querySelector('#df-7f77e175-87ed-4f4f-b7d8-2f8f66e9626e button.colab-df-quickchart');\n",
              "  quickchartButtonEl.style.display =\n",
              "    google.colab.kernel.accessAllowed ? 'block' : 'none';\n",
              "}\n",
              "\n",
              "        displayQuickchartButton(document);\n",
              "      </script>\n",
              "      <style>\n",
              "    .colab-df-container {\n",
              "      display:flex;\n",
              "      flex-wrap:wrap;\n",
              "      gap: 12px;\n",
              "    }\n",
              "\n",
              "    .colab-df-convert {\n",
              "      background-color: #E8F0FE;\n",
              "      border: none;\n",
              "      border-radius: 50%;\n",
              "      cursor: pointer;\n",
              "      display: none;\n",
              "      fill: #1967D2;\n",
              "      height: 32px;\n",
              "      padding: 0 0 0 0;\n",
              "      width: 32px;\n",
              "    }\n",
              "\n",
              "    .colab-df-convert:hover {\n",
              "      background-color: #E2EBFA;\n",
              "      box-shadow: 0px 1px 2px rgba(60, 64, 67, 0.3), 0px 1px 3px 1px rgba(60, 64, 67, 0.15);\n",
              "      fill: #174EA6;\n",
              "    }\n",
              "\n",
              "    [theme=dark] .colab-df-convert {\n",
              "      background-color: #3B4455;\n",
              "      fill: #D2E3FC;\n",
              "    }\n",
              "\n",
              "    [theme=dark] .colab-df-convert:hover {\n",
              "      background-color: #434B5C;\n",
              "      box-shadow: 0px 1px 3px 1px rgba(0, 0, 0, 0.15);\n",
              "      filter: drop-shadow(0px 1px 2px rgba(0, 0, 0, 0.3));\n",
              "      fill: #FFFFFF;\n",
              "    }\n",
              "  </style>\n",
              "\n",
              "      <script>\n",
              "        const buttonEl =\n",
              "          document.querySelector('#df-eb3dd131-38e4-4264-bd48-108f1bb8323c button.colab-df-convert');\n",
              "        buttonEl.style.display =\n",
              "          google.colab.kernel.accessAllowed ? 'block' : 'none';\n",
              "\n",
              "        async function convertToInteractive(key) {\n",
              "          const element = document.querySelector('#df-eb3dd131-38e4-4264-bd48-108f1bb8323c');\n",
              "          const dataTable =\n",
              "            await google.colab.kernel.invokeFunction('convertToInteractive',\n",
              "                                                     [key], {});\n",
              "          if (!dataTable) return;\n",
              "\n",
              "          const docLinkHtml = 'Like what you see? Visit the ' +\n",
              "            '<a target=\"_blank\" href=https://colab.research.google.com/notebooks/data_table.ipynb>data table notebook</a>'\n",
              "            + ' to learn more about interactive tables.';\n",
              "          element.innerHTML = '';\n",
              "          dataTable['output_type'] = 'display_data';\n",
              "          await google.colab.output.renderOutput(dataTable, element);\n",
              "          const docLink = document.createElement('div');\n",
              "          docLink.innerHTML = docLinkHtml;\n",
              "          element.appendChild(docLink);\n",
              "        }\n",
              "      </script>\n",
              "    </div>\n",
              "  </div>\n"
            ]
          },
          "metadata": {},
          "execution_count": 32
        }
      ]
    },
    {
      "cell_type": "code",
      "source": [
        "import matplotlib.pyplot as plt\n",
        "plt.plot(results_df[\"수익률\"])"
      ],
      "metadata": {
        "id": "9FNVOG7sDXWe",
        "outputId": "7e3d5927-c83f-4fe5-d2a9-c6e9e05c4114",
        "colab": {
          "base_uri": "https://localhost:8080/",
          "height": 448
        }
      },
      "execution_count": null,
      "outputs": [
        {
          "output_type": "execute_result",
          "data": {
            "text/plain": [
              "[<matplotlib.lines.Line2D at 0x7e30ebbf8070>]"
            ]
          },
          "metadata": {},
          "execution_count": 22
        },
        {
          "output_type": "display_data",
          "data": {
            "text/plain": [
              "<Figure size 640x480 with 1 Axes>"
            ],
            "image/png": "[encoded data removed]"
          },
          "metadata": {}
        }
      ]
    },
    {
      "cell_type": "code",
      "source": [
        "plt.plot(results_df[\"샤프지수\"])"
      ],
      "metadata": {
        "colab": {
          "base_uri": "https://localhost:8080/",
          "height": 448
        },
        "id": "ly3FZh1z0QfJ",
        "outputId": "7fdf7623-284d-429f-81ca-03fd21944851"
      },
      "execution_count": null,
      "outputs": [
        {
          "output_type": "execute_result",
          "data": {
            "text/plain": [
              "[<matplotlib.lines.Line2D at 0x7e30ebf17130>]"
            ]
          },
          "metadata": {},
          "execution_count": 23
        },
        {
          "output_type": "display_data",
          "data": {
            "text/plain": [
              "<Figure size 640x480 with 1 Axes>"
            ],
            "image/png": "[encoded data removed]"
          },
          "metadata": {}
        }
      ]
    },
    {
      "cell_type": "code",
      "source": [
        "results_df.to_csv(\"/content/drive/MyDrive/Colab Notebooks/datasets/result_df2.csv\")"
      ],
      "metadata": {
        "id": "EpSQgR0WClI-"
      },
      "execution_count": null,
      "outputs": []
    }
  ],
  "metadata": {
    "colab": {
      "provenance": [],
      "include_colab_link": true
    },
    "kernelspec": {
      "display_name": "Python 3",
      "language": "python",
      "name": "python3"
    },
    "language_info": {
      "codemirror_mode": {
        "name": "ipython",
        "version": 3
      },
      "file_extension": ".py",
      "mimetype": "text/x-python",
      "name": "python",
      "nbconvert_exporter": "python",
      "pygments_lexer": "ipython3",
      "version": "3.9.13"
    }
  },
  "nbformat": 4,
  "nbformat_minor": 0
}